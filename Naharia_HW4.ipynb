{
  "nbformat": 4,
  "nbformat_minor": 0,
  "metadata": {
    "colab": {
      "provenance": []
    },
    "kernelspec": {
      "name": "python3",
      "display_name": "Python 3"
    },
    "language_info": {
      "name": "python"
    }
  },
  "cells": [
    {
      "cell_type": "markdown",
      "source": [
        "#**BA 875 Operations and Supply Chain Analytics**\n",
        "\n",
        "Homework Assignment 4\n",
        "\n",
        "By, Prateek Naharia | nahariap@bu.edu"
      ],
      "metadata": {
        "id": "B04p1oboiIew"
      }
    },
    {
      "cell_type": "markdown",
      "source": [
        "##Part I: Inventory & Capacity Planning | Hyatt’s Problem \n",
        "(Overbooking level optimization)\n",
        "\n",
        "Dataset: none needed (building simulation)"
      ],
      "metadata": {
        "id": "lrFvScmaiIJi"
      }
    },
    {
      "cell_type": "code",
      "execution_count": 1,
      "metadata": {
        "id": "094ZBn3shh0e"
      },
      "outputs": [],
      "source": [
        "import pandas as pd\n",
        "import numpy as np"
      ]
    },
    {
      "cell_type": "code",
      "source": [
        "# input parameters\n",
        "capacity = 100\n",
        "room_price = 150\n",
        "voucher = 25\n",
        "no_show_mean = 8\n",
        "no_show_sd = 2\n",
        "simulation_run = 5000"
      ],
      "metadata": {
        "id": "nBri1I7uhwLi"
      },
      "execution_count": 2,
      "outputs": []
    },
    {
      "cell_type": "code",
      "source": [
        "# simulate the number of noshows\n",
        "df_no_show = pd.DataFrame({'no_show' : np.random.normal(no_show_mean,no_show_sd,simulation_run).round()})\n",
        "df_no_show.plot.hist(bins=range(1, 15))"
      ],
      "metadata": {
        "colab": {
          "base_uri": "https://localhost:8080/",
          "height": 447
        },
        "id": "KqMyl9Orhxmt",
        "outputId": "a331d3cc-4845-4795-d375-e5902c8ee7f0"
      },
      "execution_count": 4,
      "outputs": [
        {
          "output_type": "execute_result",
          "data": {
            "text/plain": [
              "<Axes: ylabel='Frequency'>"
            ]
          },
          "metadata": {},
          "execution_count": 4
        },
        {
          "output_type": "display_data",
          "data": {
            "text/plain": [
              "<Figure size 640x480 with 1 Axes>"
            ],
            "image/png": "[encoded data removed]"
          },
          "metadata": {}
        }
      ]
    },
    {
      "cell_type": "code",
      "source": [
        "# as a rule of thumb, try the overbooking number between\n",
        "# mean - 3SD, mean + 3SD\n",
        "df_optimize = pd.DataFrame({'overbook_level' : np.arange(2,15)})"
      ],
      "metadata": {
        "id": "WHl-4EL1hy8e"
      },
      "execution_count": 6,
      "outputs": []
    },
    {
      "cell_type": "code",
      "source": [
        "# use a loop to try different order levels and compute average profit\n",
        "for i in np.arange(0,df_optimize.shape[0]):\n",
        "    df_no_show['overbook_level'] = df_optimize.overbook_level[i]\n",
        "    df_no_show['net_rooms'] = (capacity + df_optimize.overbook_level[i] - df_no_show.no_show).clip(upper=capacity)\n",
        "    df_no_show['room_rev'] = df_no_show['net_rooms']*room_price\n",
        "    df_no_show['denials'] = (df_optimize.overbook_level[i] - df_no_show.no_show).clip(lower=0)\n",
        "    df_no_show['denial_cost'] = df_no_show['denials']*voucher\n",
        "    # If calculated revenue at 100 capacity, instead of 'net_rooms', need to account separately for opportunity cost\n",
        "    df_no_show['empty rooms'] = (df_no_show.no_show - df_optimize.overbook_level[i]).clip(lower=0)\n",
        "    df_no_show['opportunity cost'] =  df_no_show['empty rooms']*room_price\n",
        "    df_no_show['profit'] = df_no_show['room_rev'] - df_no_show['denial_cost'] - df_no_show['opportunity cost']\n",
        "    df_optimize.loc[i,'avg_profit'] = df_no_show.profit.mean()\n",
        "    df_optimize.loc[i,'sd_profit'] = df_no_show.profit.std()"
      ],
      "metadata": {
        "id": "URPgumFih0g2"
      },
      "execution_count": 7,
      "outputs": []
    },
    {
      "cell_type": "code",
      "source": [
        "# verify intermediate calculations done as expected     \n",
        "df_no_show.sort_values('profit')"
      ],
      "metadata": {
        "colab": {
          "base_uri": "https://localhost:8080/",
          "height": 424
        },
        "id": "4oDY11Z8h246",
        "outputId": "633131ed-78f5-45b2-970c-5f4841838937"
      },
      "execution_count": 8,
      "outputs": [
        {
          "output_type": "execute_result",
          "data": {
            "text/plain": [
              "      no_show  overbook_level  net_rooms  room_rev  denials  denial_cost  \\\n",
              "3423      1.0              14      100.0   15000.0     13.0        325.0   \n",
              "4467      1.0              14      100.0   15000.0     13.0        325.0   \n",
              "674       1.0              14      100.0   15000.0     13.0        325.0   \n",
              "3124     15.0              14       99.0   14850.0      0.0          0.0   \n",
              "2338      2.0              14      100.0   15000.0     12.0        300.0   \n",
              "...       ...             ...        ...       ...      ...          ...   \n",
              "594      14.0              14      100.0   15000.0      0.0          0.0   \n",
              "83       14.0              14      100.0   15000.0      0.0          0.0   \n",
              "792      14.0              14      100.0   15000.0      0.0          0.0   \n",
              "508      14.0              14      100.0   15000.0      0.0          0.0   \n",
              "3771     14.0              14      100.0   15000.0      0.0          0.0   \n",
              "\n",
              "      empty rooms  opportunity cost   profit  \n",
              "3423          0.0               0.0  14675.0  \n",
              "4467          0.0               0.0  14675.0  \n",
              "674           0.0               0.0  14675.0  \n",
              "3124          1.0             150.0  14700.0  \n",
              "2338          0.0               0.0  14700.0  \n",
              "...           ...               ...      ...  \n",
              "594           0.0               0.0  15000.0  \n",
              "83            0.0               0.0  15000.0  \n",
              "792           0.0               0.0  15000.0  \n",
              "508           0.0               0.0  15000.0  \n",
              "3771          0.0               0.0  15000.0  \n",
              "\n",
              "[5000 rows x 9 columns]"
            ],
            "text/html": [
              "\n",
              "  <div id=\"df-82757d3d-4565-43cc-8c32-47f9bafb6852\">\n",
              "    <div class=\"colab-df-container\">\n",
              "      <div>\n",
              "<style scoped>\n",
              "    .dataframe tbody tr th:only-of-type {\n",
              "        vertical-align: middle;\n",
              "    }\n",
              "\n",
              "    .dataframe tbody tr th {\n",
              "        vertical-align: top;\n",
              "    }\n",
              "\n",
              "    .dataframe thead th {\n",
              "        text-align: right;\n",
              "    }\n",
              "</style>\n",
              "<table border=\"1\" class=\"dataframe\">\n",
              "  <thead>\n",
              "    <tr style=\"text-align: right;\">\n",
              "      <th></th>\n",
              "      <th>no_show</th>\n",
              "      <th>overbook_level</th>\n",
              "      <th>net_rooms</th>\n",
              "      <th>room_rev</th>\n",
              "      <th>denials</th>\n",
              "      <th>denial_cost</th>\n",
              "      <th>empty rooms</th>\n",
              "      <th>opportunity cost</th>\n",
              "      <th>profit</th>\n",
              "    </tr>\n",
              "  </thead>\n",
              "  <tbody>\n",
              "    <tr>\n",
              "      <th>3423</th>\n",
              "      <td>1.0</td>\n",
              "      <td>14</td>\n",
              "      <td>100.0</td>\n",
              "      <td>15000.0</td>\n",
              "      <td>13.0</td>\n",
              "      <td>325.0</td>\n",
              "      <td>0.0</td>\n",
              "      <td>0.0</td>\n",
              "      <td>14675.0</td>\n",
              "    </tr>\n",
              "    <tr>\n",
              "      <th>4467</th>\n",
              "      <td>1.0</td>\n",
              "      <td>14</td>\n",
              "      <td>100.0</td>\n",
              "      <td>15000.0</td>\n",
              "      <td>13.0</td>\n",
              "      <td>325.0</td>\n",
              "      <td>0.0</td>\n",
              "      <td>0.0</td>\n",
              "      <td>14675.0</td>\n",
              "    </tr>\n",
              "    <tr>\n",
              "      <th>674</th>\n",
              "      <td>1.0</td>\n",
              "      <td>14</td>\n",
              "      <td>100.0</td>\n",
              "      <td>15000.0</td>\n",
              "      <td>13.0</td>\n",
              "      <td>325.0</td>\n",
              "      <td>0.0</td>\n",
              "      <td>0.0</td>\n",
              "      <td>14675.0</td>\n",
              "    </tr>\n",
              "    <tr>\n",
              "      <th>3124</th>\n",
              "      <td>15.0</td>\n",
              "      <td>14</td>\n",
              "      <td>99.0</td>\n",
              "      <td>14850.0</td>\n",
              "      <td>0.0</td>\n",
              "      <td>0.0</td>\n",
              "      <td>1.0</td>\n",
              "      <td>150.0</td>\n",
              "      <td>14700.0</td>\n",
              "    </tr>\n",
              "    <tr>\n",
              "      <th>2338</th>\n",
              "      <td>2.0</td>\n",
              "      <td>14</td>\n",
              "      <td>100.0</td>\n",
              "      <td>15000.0</td>\n",
              "      <td>12.0</td>\n",
              "      <td>300.0</td>\n",
              "      <td>0.0</td>\n",
              "      <td>0.0</td>\n",
              "      <td>14700.0</td>\n",
              "    </tr>\n",
              "    <tr>\n",
              "      <th>...</th>\n",
              "      <td>...</td>\n",
              "      <td>...</td>\n",
              "      <td>...</td>\n",
              "      <td>...</td>\n",
              "      <td>...</td>\n",
              "      <td>...</td>\n",
              "      <td>...</td>\n",
              "      <td>...</td>\n",
              "      <td>...</td>\n",
              "    </tr>\n",
              "    <tr>\n",
              "      <th>594</th>\n",
              "      <td>14.0</td>\n",
              "      <td>14</td>\n",
              "      <td>100.0</td>\n",
              "      <td>15000.0</td>\n",
              "      <td>0.0</td>\n",
              "      <td>0.0</td>\n",
              "      <td>0.0</td>\n",
              "      <td>0.0</td>\n",
              "      <td>15000.0</td>\n",
              "    </tr>\n",
              "    <tr>\n",
              "      <th>83</th>\n",
              "      <td>14.0</td>\n",
              "      <td>14</td>\n",
              "      <td>100.0</td>\n",
              "      <td>15000.0</td>\n",
              "      <td>0.0</td>\n",
              "      <td>0.0</td>\n",
              "      <td>0.0</td>\n",
              "      <td>0.0</td>\n",
              "      <td>15000.0</td>\n",
              "    </tr>\n",
              "    <tr>\n",
              "      <th>792</th>\n",
              "      <td>14.0</td>\n",
              "      <td>14</td>\n",
              "      <td>100.0</td>\n",
              "      <td>15000.0</td>\n",
              "      <td>0.0</td>\n",
              "      <td>0.0</td>\n",
              "      <td>0.0</td>\n",
              "      <td>0.0</td>\n",
              "      <td>15000.0</td>\n",
              "    </tr>\n",
              "    <tr>\n",
              "      <th>508</th>\n",
              "      <td>14.0</td>\n",
              "      <td>14</td>\n",
              "      <td>100.0</td>\n",
              "      <td>15000.0</td>\n",
              "      <td>0.0</td>\n",
              "      <td>0.0</td>\n",
              "      <td>0.0</td>\n",
              "      <td>0.0</td>\n",
              "      <td>15000.0</td>\n",
              "    </tr>\n",
              "    <tr>\n",
              "      <th>3771</th>\n",
              "      <td>14.0</td>\n",
              "      <td>14</td>\n",
              "      <td>100.0</td>\n",
              "      <td>15000.0</td>\n",
              "      <td>0.0</td>\n",
              "      <td>0.0</td>\n",
              "      <td>0.0</td>\n",
              "      <td>0.0</td>\n",
              "      <td>15000.0</td>\n",
              "    </tr>\n",
              "  </tbody>\n",
              "</table>\n",
              "<p>5000 rows × 9 columns</p>\n",
              "</div>\n",
              "      <button class=\"colab-df-convert\" onclick=\"convertToInteractive('df-82757d3d-4565-43cc-8c32-47f9bafb6852')\"\n",
              "              title=\"Convert this dataframe to an interactive table.\"\n",
              "              style=\"display:none;\">\n",
              "        \n",
              "  <svg xmlns=\"http://www.w3.org/2000/svg\" height=\"24px\"viewBox=\"0 0 24 24\"\n",
              "       width=\"24px\">\n",
              "    <path d=\"M0 0h24v24H0V0z\" fill=\"none\"/>\n",
              "    <path d=\"M18.56 5.44l.94 2.06.94-2.06 2.06-.94-2.06-.94-.94-2.06-.94 2.06-2.06.94zm-11 1L8.5 8.5l.94-2.06 2.06-.94-2.06-.94L8.5 2.5l-.94 2.06-2.06.94zm10 10l.94 2.06.94-2.06 2.06-.94-2.06-.94-.94-2.06-.94 2.06-2.06.94z\"/><path d=\"M17.41 7.96l-1.37-1.37c-.4-.4-.92-.59-1.43-.59-.52 0-1.04.2-1.43.59L10.3 9.45l-7.72 7.72c-.78.78-.78 2.05 0 2.83L4 21.41c.39.39.9.59 1.41.59.51 0 1.02-.2 1.41-.59l7.78-7.78 2.81-2.81c.8-.78.8-2.07 0-2.86zM5.41 20L4 18.59l7.72-7.72 1.47 1.35L5.41 20z\"/>\n",
              "  </svg>\n",
              "      </button>\n",
              "      \n",
              "  <style>\n",
              "    .colab-df-container {\n",
              "      display:flex;\n",
              "      flex-wrap:wrap;\n",
              "      gap: 12px;\n",
              "    }\n",
              "\n",
              "    .colab-df-convert {\n",
              "      background-color: #E8F0FE;\n",
              "      border: none;\n",
              "      border-radius: 50%;\n",
              "      cursor: pointer;\n",
              "      display: none;\n",
              "      fill: #1967D2;\n",
              "      height: 32px;\n",
              "      padding: 0 0 0 0;\n",
              "      width: 32px;\n",
              "    }\n",
              "\n",
              "    .colab-df-convert:hover {\n",
              "      background-color: #E2EBFA;\n",
              "      box-shadow: 0px 1px 2px rgba(60, 64, 67, 0.3), 0px 1px 3px 1px rgba(60, 64, 67, 0.15);\n",
              "      fill: #174EA6;\n",
              "    }\n",
              "\n",
              "    [theme=dark] .colab-df-convert {\n",
              "      background-color: #3B4455;\n",
              "      fill: #D2E3FC;\n",
              "    }\n",
              "\n",
              "    [theme=dark] .colab-df-convert:hover {\n",
              "      background-color: #434B5C;\n",
              "      box-shadow: 0px 1px 3px 1px rgba(0, 0, 0, 0.15);\n",
              "      filter: drop-shadow(0px 1px 2px rgba(0, 0, 0, 0.3));\n",
              "      fill: #FFFFFF;\n",
              "    }\n",
              "  </style>\n",
              "\n",
              "      <script>\n",
              "        const buttonEl =\n",
              "          document.querySelector('#df-82757d3d-4565-43cc-8c32-47f9bafb6852 button.colab-df-convert');\n",
              "        buttonEl.style.display =\n",
              "          google.colab.kernel.accessAllowed ? 'block' : 'none';\n",
              "\n",
              "        async function convertToInteractive(key) {\n",
              "          const element = document.querySelector('#df-82757d3d-4565-43cc-8c32-47f9bafb6852');\n",
              "          const dataTable =\n",
              "            await google.colab.kernel.invokeFunction('convertToInteractive',\n",
              "                                                     [key], {});\n",
              "          if (!dataTable) return;\n",
              "\n",
              "          const docLinkHtml = 'Like what you see? Visit the ' +\n",
              "            '<a target=\"_blank\" href=https://colab.research.google.com/notebooks/data_table.ipynb>data table notebook</a>'\n",
              "            + ' to learn more about interactive tables.';\n",
              "          element.innerHTML = '';\n",
              "          dataTable['output_type'] = 'display_data';\n",
              "          await google.colab.output.renderOutput(dataTable, element);\n",
              "          const docLink = document.createElement('div');\n",
              "          docLink.innerHTML = docLinkHtml;\n",
              "          element.appendChild(docLink);\n",
              "        }\n",
              "      </script>\n",
              "    </div>\n",
              "  </div>\n",
              "  "
            ]
          },
          "metadata": {},
          "execution_count": 8
        }
      ]
    },
    {
      "cell_type": "code",
      "source": [
        "# verify that avg_profit, sd_profit calculated and stored as expected\n",
        "df_optimize.sort_values(\"avg_profit\", ascending=False)"
      ],
      "metadata": {
        "colab": {
          "base_uri": "https://localhost:8080/",
          "height": 457
        },
        "id": "4BbXHRrih6Mn",
        "outputId": "d9c0ee17-da69-4a7a-910e-cd438b83242c"
      },
      "execution_count": 9,
      "outputs": [
        {
          "output_type": "execute_result",
          "data": {
            "text/plain": [
              "    overbook_level  avg_profit   sd_profit\n",
              "9               11   14905.950   95.060006\n",
              "8               10   14896.175  155.479353\n",
              "10              12   14894.210   63.877163\n",
              "11              13   14873.565   52.639053\n",
              "12              14   14849.930   50.435641\n",
              "7                9   14847.595  244.641699\n",
              "6                8   14742.725  349.591036\n",
              "5                7   14573.115  449.429048\n",
              "4                6   14345.395  525.154336\n",
              "3                5   14079.715  572.825034\n",
              "2                4   13792.390  595.449830\n",
              "1                3   13495.900  603.275002\n",
              "0                2   13196.745  605.561823"
            ],
            "text/html": [
              "\n",
              "  <div id=\"df-7bb465aa-ebf9-47d1-8932-c583221c96da\">\n",
              "    <div class=\"colab-df-container\">\n",
              "      <div>\n",
              "<style scoped>\n",
              "    .dataframe tbody tr th:only-of-type {\n",
              "        vertical-align: middle;\n",
              "    }\n",
              "\n",
              "    .dataframe tbody tr th {\n",
              "        vertical-align: top;\n",
              "    }\n",
              "\n",
              "    .dataframe thead th {\n",
              "        text-align: right;\n",
              "    }\n",
              "</style>\n",
              "<table border=\"1\" class=\"dataframe\">\n",
              "  <thead>\n",
              "    <tr style=\"text-align: right;\">\n",
              "      <th></th>\n",
              "      <th>overbook_level</th>\n",
              "      <th>avg_profit</th>\n",
              "      <th>sd_profit</th>\n",
              "    </tr>\n",
              "  </thead>\n",
              "  <tbody>\n",
              "    <tr>\n",
              "      <th>9</th>\n",
              "      <td>11</td>\n",
              "      <td>14905.950</td>\n",
              "      <td>95.060006</td>\n",
              "    </tr>\n",
              "    <tr>\n",
              "      <th>8</th>\n",
              "      <td>10</td>\n",
              "      <td>14896.175</td>\n",
              "      <td>155.479353</td>\n",
              "    </tr>\n",
              "    <tr>\n",
              "      <th>10</th>\n",
              "      <td>12</td>\n",
              "      <td>14894.210</td>\n",
              "      <td>63.877163</td>\n",
              "    </tr>\n",
              "    <tr>\n",
              "      <th>11</th>\n",
              "      <td>13</td>\n",
              "      <td>14873.565</td>\n",
              "      <td>52.639053</td>\n",
              "    </tr>\n",
              "    <tr>\n",
              "      <th>12</th>\n",
              "      <td>14</td>\n",
              "      <td>14849.930</td>\n",
              "      <td>50.435641</td>\n",
              "    </tr>\n",
              "    <tr>\n",
              "      <th>7</th>\n",
              "      <td>9</td>\n",
              "      <td>14847.595</td>\n",
              "      <td>244.641699</td>\n",
              "    </tr>\n",
              "    <tr>\n",
              "      <th>6</th>\n",
              "      <td>8</td>\n",
              "      <td>14742.725</td>\n",
              "      <td>349.591036</td>\n",
              "    </tr>\n",
              "    <tr>\n",
              "      <th>5</th>\n",
              "      <td>7</td>\n",
              "      <td>14573.115</td>\n",
              "      <td>449.429048</td>\n",
              "    </tr>\n",
              "    <tr>\n",
              "      <th>4</th>\n",
              "      <td>6</td>\n",
              "      <td>14345.395</td>\n",
              "      <td>525.154336</td>\n",
              "    </tr>\n",
              "    <tr>\n",
              "      <th>3</th>\n",
              "      <td>5</td>\n",
              "      <td>14079.715</td>\n",
              "      <td>572.825034</td>\n",
              "    </tr>\n",
              "    <tr>\n",
              "      <th>2</th>\n",
              "      <td>4</td>\n",
              "      <td>13792.390</td>\n",
              "      <td>595.449830</td>\n",
              "    </tr>\n",
              "    <tr>\n",
              "      <th>1</th>\n",
              "      <td>3</td>\n",
              "      <td>13495.900</td>\n",
              "      <td>603.275002</td>\n",
              "    </tr>\n",
              "    <tr>\n",
              "      <th>0</th>\n",
              "      <td>2</td>\n",
              "      <td>13196.745</td>\n",
              "      <td>605.561823</td>\n",
              "    </tr>\n",
              "  </tbody>\n",
              "</table>\n",
              "</div>\n",
              "      <button class=\"colab-df-convert\" onclick=\"convertToInteractive('df-7bb465aa-ebf9-47d1-8932-c583221c96da')\"\n",
              "              title=\"Convert this dataframe to an interactive table.\"\n",
              "              style=\"display:none;\">\n",
              "        \n",
              "  <svg xmlns=\"http://www.w3.org/2000/svg\" height=\"24px\"viewBox=\"0 0 24 24\"\n",
              "       width=\"24px\">\n",
              "    <path d=\"M0 0h24v24H0V0z\" fill=\"none\"/>\n",
              "    <path d=\"M18.56 5.44l.94 2.06.94-2.06 2.06-.94-2.06-.94-.94-2.06-.94 2.06-2.06.94zm-11 1L8.5 8.5l.94-2.06 2.06-.94-2.06-.94L8.5 2.5l-.94 2.06-2.06.94zm10 10l.94 2.06.94-2.06 2.06-.94-2.06-.94-.94-2.06-.94 2.06-2.06.94z\"/><path d=\"M17.41 7.96l-1.37-1.37c-.4-.4-.92-.59-1.43-.59-.52 0-1.04.2-1.43.59L10.3 9.45l-7.72 7.72c-.78.78-.78 2.05 0 2.83L4 21.41c.39.39.9.59 1.41.59.51 0 1.02-.2 1.41-.59l7.78-7.78 2.81-2.81c.8-.78.8-2.07 0-2.86zM5.41 20L4 18.59l7.72-7.72 1.47 1.35L5.41 20z\"/>\n",
              "  </svg>\n",
              "      </button>\n",
              "      \n",
              "  <style>\n",
              "    .colab-df-container {\n",
              "      display:flex;\n",
              "      flex-wrap:wrap;\n",
              "      gap: 12px;\n",
              "    }\n",
              "\n",
              "    .colab-df-convert {\n",
              "      background-color: #E8F0FE;\n",
              "      border: none;\n",
              "      border-radius: 50%;\n",
              "      cursor: pointer;\n",
              "      display: none;\n",
              "      fill: #1967D2;\n",
              "      height: 32px;\n",
              "      padding: 0 0 0 0;\n",
              "      width: 32px;\n",
              "    }\n",
              "\n",
              "    .colab-df-convert:hover {\n",
              "      background-color: #E2EBFA;\n",
              "      box-shadow: 0px 1px 2px rgba(60, 64, 67, 0.3), 0px 1px 3px 1px rgba(60, 64, 67, 0.15);\n",
              "      fill: #174EA6;\n",
              "    }\n",
              "\n",
              "    [theme=dark] .colab-df-convert {\n",
              "      background-color: #3B4455;\n",
              "      fill: #D2E3FC;\n",
              "    }\n",
              "\n",
              "    [theme=dark] .colab-df-convert:hover {\n",
              "      background-color: #434B5C;\n",
              "      box-shadow: 0px 1px 3px 1px rgba(0, 0, 0, 0.15);\n",
              "      filter: drop-shadow(0px 1px 2px rgba(0, 0, 0, 0.3));\n",
              "      fill: #FFFFFF;\n",
              "    }\n",
              "  </style>\n",
              "\n",
              "      <script>\n",
              "        const buttonEl =\n",
              "          document.querySelector('#df-7bb465aa-ebf9-47d1-8932-c583221c96da button.colab-df-convert');\n",
              "        buttonEl.style.display =\n",
              "          google.colab.kernel.accessAllowed ? 'block' : 'none';\n",
              "\n",
              "        async function convertToInteractive(key) {\n",
              "          const element = document.querySelector('#df-7bb465aa-ebf9-47d1-8932-c583221c96da');\n",
              "          const dataTable =\n",
              "            await google.colab.kernel.invokeFunction('convertToInteractive',\n",
              "                                                     [key], {});\n",
              "          if (!dataTable) return;\n",
              "\n",
              "          const docLinkHtml = 'Like what you see? Visit the ' +\n",
              "            '<a target=\"_blank\" href=https://colab.research.google.com/notebooks/data_table.ipynb>data table notebook</a>'\n",
              "            + ' to learn more about interactive tables.';\n",
              "          element.innerHTML = '';\n",
              "          dataTable['output_type'] = 'display_data';\n",
              "          await google.colab.output.renderOutput(dataTable, element);\n",
              "          const docLink = document.createElement('div');\n",
              "          docLink.innerHTML = docLinkHtml;\n",
              "          element.appendChild(docLink);\n",
              "        }\n",
              "      </script>\n",
              "    </div>\n",
              "  </div>\n",
              "  "
            ]
          },
          "metadata": {},
          "execution_count": 9
        }
      ]
    },
    {
      "cell_type": "code",
      "source": [
        "# relationship between avg and sd of profit with order level\n",
        "df_optimize.plot.scatter(x='overbook_level',y='avg_profit',xticks=range(1, 15))\n",
        "df_optimize.plot.scatter(x='overbook_level',y='sd_profit',xticks=range(1, 15))\n"
      ],
      "metadata": {
        "colab": {
          "base_uri": "https://localhost:8080/",
          "height": 900
        },
        "id": "cSm76AoQh6FV",
        "outputId": "1d59aa1d-52a0-4491-f28b-2efffdda1bc6"
      },
      "execution_count": 10,
      "outputs": [
        {
          "output_type": "execute_result",
          "data": {
            "text/plain": [
              "<Axes: xlabel='overbook_level', ylabel='sd_profit'>"
            ]
          },
          "metadata": {},
          "execution_count": 10
        },
        {
          "output_type": "display_data",
          "data": {
            "text/plain": [
              "<Figure size 640x480 with 1 Axes>"
            ],
            "image/png": "[encoded data removed]"
          },
          "metadata": {}
        },
        {
          "output_type": "display_data",
          "data": {
            "text/plain": [
              "<Figure size 640x480 with 1 Axes>"
            ],
            "image/png": "[encoded data removed]"
          },
          "metadata": {}
        }
      ]
    },
    {
      "cell_type": "code",
      "source": [
        "# profit risk: efficiency frontier\n",
        "df_optimize.plot.scatter(y='avg_profit',x='sd_profit').set(ylabel=\"Expected Profit (avg_profit)\", xlabel=\"Uncertainty (sd_profit)\")"
      ],
      "metadata": {
        "colab": {
          "base_uri": "https://localhost:8080/",
          "height": 485
        },
        "id": "uW2LOLB1h91W",
        "outputId": "896429e9-b6b7-4675-81c6-82b87c06624e"
      },
      "execution_count": 11,
      "outputs": [
        {
          "output_type": "execute_result",
          "data": {
            "text/plain": [
              "[Text(0, 0.5, 'Expected Profit (avg_profit)'),\n",
              " Text(0.5, 0, 'Uncertainty (sd_profit)')]"
            ]
          },
          "metadata": {},
          "execution_count": 11
        },
        {
          "output_type": "display_data",
          "data": {
            "text/plain": [
              "<Figure size 640x480 with 1 Axes>"
            ],
            "image/png": "[encoded data removed]"
          },
          "metadata": {}
        }
      ]
    },
    {
      "cell_type": "markdown",
      "source": [
        "##Part II: Inventory & Capacity Planning | The Parka Problem (Inventory level optimization)\n",
        "\n",
        "Dataset: none needed (building simulation)"
      ],
      "metadata": {
        "id": "txz_IzDPioS1"
      }
    },
    {
      "cell_type": "code",
      "source": [
        "#Specify the input parameters\n",
        "procurement_cost = 70\n",
        "item_price = 140\n",
        "markdown_price = 40\n",
        "demand_mean = 26\n",
        "demand_sd = 3\n",
        "simulation_run = 5000"
      ],
      "metadata": {
        "id": "wJKYaFAhiq_Z"
      },
      "execution_count": 43,
      "outputs": []
    },
    {
      "cell_type": "code",
      "source": [
        "#Simulate the order demand (use 5000 simulation runs)\n",
        "df_demand = pd.DataFrame({'demand' : np.random.normal(demand_mean,demand_sd,simulation_run).round()})\n",
        "df_demand.plot.hist(bins=range(10, 42))"
      ],
      "metadata": {
        "colab": {
          "base_uri": "https://localhost:8080/",
          "height": 452
        },
        "id": "pvDJJhYukrXa",
        "outputId": "6ee0c7e2-9a96-4e31-c22a-69261f4627dc"
      },
      "execution_count": 48,
      "outputs": [
        {
          "output_type": "execute_result",
          "data": {
            "text/plain": [
              "<Axes: ylabel='Frequency'>"
            ]
          },
          "metadata": {},
          "execution_count": 48
        },
        {
          "output_type": "display_data",
          "data": {
            "text/plain": [
              "<Figure size 640x480 with 1 Axes>"
            ],
            "image/png": "[encoded data removed]"
          },
          "metadata": {}
        }
      ]
    },
    {
      "cell_type": "code",
      "source": [
        "#Develop an algorithm that tests different order size levels and computes the average expected profit\n",
        "df_optimize = pd.DataFrame({'order_size' : np.arange(17,35)})"
      ],
      "metadata": {
        "id": "AQmBJCPIlcpx"
      },
      "execution_count": 49,
      "outputs": []
    },
    {
      "cell_type": "code",
      "source": [
        "# use a loop to try different order sizes and compute average profit\n",
        "for i in np.arange(0,df_optimize.shape[0]):\n",
        "    df_demand['order_size'] = df_optimize.order_size[i]\n",
        "    df_demand['net_sales'] = np.minimum(df_demand.demand, df_demand.order_size)\n",
        "    df_demand['revenue'] = df_demand['net_sales']*item_price\n",
        "    df_demand['markdown_sales'] = np.maximum(0, df_demand.order_size - df_demand.demand)\n",
        "    df_demand['markdown_revenue'] = df_demand['markdown_sales']*markdown_price\n",
        "    df_demand['cost'] = df_demand.order_size*procurement_cost\n",
        "    df_demand['profit'] = df_demand['revenue'] + df_demand['markdown_revenue'] - df_demand['cost']\n",
        "    df_optimize.loc[i,'avg_profit'] = df_demand.profit.mean()\n",
        "    df_optimize.loc[i,'sd_profit'] = df_demand.profit.std()"
      ],
      "metadata": {
        "id": "JK7BINjeoDS3"
      },
      "execution_count": 50,
      "outputs": []
    },
    {
      "cell_type": "code",
      "source": [
        "df_demand.sort_values('profit')"
      ],
      "metadata": {
        "colab": {
          "base_uri": "https://localhost:8080/",
          "height": 424
        },
        "id": "cJI-KWsxmS2w",
        "outputId": "163ac6c6-b49d-41dc-f461-68dc4887c598"
      },
      "execution_count": 53,
      "outputs": [
        {
          "output_type": "execute_result",
          "data": {
            "text/plain": [
              "      demand  order_size  net_sales  revenue  markdown_sales  \\\n",
              "1286    14.0          34       14.0   1960.0            20.0   \n",
              "1673    16.0          34       16.0   2240.0            18.0   \n",
              "3343    16.0          34       16.0   2240.0            18.0   \n",
              "555     16.0          34       16.0   2240.0            18.0   \n",
              "4935    16.0          34       16.0   2240.0            18.0   \n",
              "...      ...         ...        ...      ...             ...   \n",
              "3692    34.0          34       34.0   4760.0             0.0   \n",
              "258     35.0          34       34.0   4760.0             0.0   \n",
              "1592    34.0          34       34.0   4760.0             0.0   \n",
              "4363    35.0          34       34.0   4760.0             0.0   \n",
              "2973    34.0          34       34.0   4760.0             0.0   \n",
              "\n",
              "      markdown_revenue  cost  profit  \n",
              "1286             800.0  2380   380.0  \n",
              "1673             720.0  2380   580.0  \n",
              "3343             720.0  2380   580.0  \n",
              "555              720.0  2380   580.0  \n",
              "4935             720.0  2380   580.0  \n",
              "...                ...   ...     ...  \n",
              "3692               0.0  2380  2380.0  \n",
              "258                0.0  2380  2380.0  \n",
              "1592               0.0  2380  2380.0  \n",
              "4363               0.0  2380  2380.0  \n",
              "2973               0.0  2380  2380.0  \n",
              "\n",
              "[5000 rows x 8 columns]"
            ],
            "text/html": [
              "\n",
              "  <div id=\"df-f1a7b116-659a-4b5b-9613-fc400a7d8d91\">\n",
              "    <div class=\"colab-df-container\">\n",
              "      <div>\n",
              "<style scoped>\n",
              "    .dataframe tbody tr th:only-of-type {\n",
              "        vertical-align: middle;\n",
              "    }\n",
              "\n",
              "    .dataframe tbody tr th {\n",
              "        vertical-align: top;\n",
              "    }\n",
              "\n",
              "    .dataframe thead th {\n",
              "        text-align: right;\n",
              "    }\n",
              "</style>\n",
              "<table border=\"1\" class=\"dataframe\">\n",
              "  <thead>\n",
              "    <tr style=\"text-align: right;\">\n",
              "      <th></th>\n",
              "      <th>demand</th>\n",
              "      <th>order_size</th>\n",
              "      <th>net_sales</th>\n",
              "      <th>revenue</th>\n",
              "      <th>markdown_sales</th>\n",
              "      <th>markdown_revenue</th>\n",
              "      <th>cost</th>\n",
              "      <th>profit</th>\n",
              "    </tr>\n",
              "  </thead>\n",
              "  <tbody>\n",
              "    <tr>\n",
              "      <th>1286</th>\n",
              "      <td>14.0</td>\n",
              "      <td>34</td>\n",
              "      <td>14.0</td>\n",
              "      <td>1960.0</td>\n",
              "      <td>20.0</td>\n",
              "      <td>800.0</td>\n",
              "      <td>2380</td>\n",
              "      <td>380.0</td>\n",
              "    </tr>\n",
              "    <tr>\n",
              "      <th>1673</th>\n",
              "      <td>16.0</td>\n",
              "      <td>34</td>\n",
              "      <td>16.0</td>\n",
              "      <td>2240.0</td>\n",
              "      <td>18.0</td>\n",
              "      <td>720.0</td>\n",
              "      <td>2380</td>\n",
              "      <td>580.0</td>\n",
              "    </tr>\n",
              "    <tr>\n",
              "      <th>3343</th>\n",
              "      <td>16.0</td>\n",
              "      <td>34</td>\n",
              "      <td>16.0</td>\n",
              "      <td>2240.0</td>\n",
              "      <td>18.0</td>\n",
              "      <td>720.0</td>\n",
              "      <td>2380</td>\n",
              "      <td>580.0</td>\n",
              "    </tr>\n",
              "    <tr>\n",
              "      <th>555</th>\n",
              "      <td>16.0</td>\n",
              "      <td>34</td>\n",
              "      <td>16.0</td>\n",
              "      <td>2240.0</td>\n",
              "      <td>18.0</td>\n",
              "      <td>720.0</td>\n",
              "      <td>2380</td>\n",
              "      <td>580.0</td>\n",
              "    </tr>\n",
              "    <tr>\n",
              "      <th>4935</th>\n",
              "      <td>16.0</td>\n",
              "      <td>34</td>\n",
              "      <td>16.0</td>\n",
              "      <td>2240.0</td>\n",
              "      <td>18.0</td>\n",
              "      <td>720.0</td>\n",
              "      <td>2380</td>\n",
              "      <td>580.0</td>\n",
              "    </tr>\n",
              "    <tr>\n",
              "      <th>...</th>\n",
              "      <td>...</td>\n",
              "      <td>...</td>\n",
              "      <td>...</td>\n",
              "      <td>...</td>\n",
              "      <td>...</td>\n",
              "      <td>...</td>\n",
              "      <td>...</td>\n",
              "      <td>...</td>\n",
              "    </tr>\n",
              "    <tr>\n",
              "      <th>3692</th>\n",
              "      <td>34.0</td>\n",
              "      <td>34</td>\n",
              "      <td>34.0</td>\n",
              "      <td>4760.0</td>\n",
              "      <td>0.0</td>\n",
              "      <td>0.0</td>\n",
              "      <td>2380</td>\n",
              "      <td>2380.0</td>\n",
              "    </tr>\n",
              "    <tr>\n",
              "      <th>258</th>\n",
              "      <td>35.0</td>\n",
              "      <td>34</td>\n",
              "      <td>34.0</td>\n",
              "      <td>4760.0</td>\n",
              "      <td>0.0</td>\n",
              "      <td>0.0</td>\n",
              "      <td>2380</td>\n",
              "      <td>2380.0</td>\n",
              "    </tr>\n",
              "    <tr>\n",
              "      <th>1592</th>\n",
              "      <td>34.0</td>\n",
              "      <td>34</td>\n",
              "      <td>34.0</td>\n",
              "      <td>4760.0</td>\n",
              "      <td>0.0</td>\n",
              "      <td>0.0</td>\n",
              "      <td>2380</td>\n",
              "      <td>2380.0</td>\n",
              "    </tr>\n",
              "    <tr>\n",
              "      <th>4363</th>\n",
              "      <td>35.0</td>\n",
              "      <td>34</td>\n",
              "      <td>34.0</td>\n",
              "      <td>4760.0</td>\n",
              "      <td>0.0</td>\n",
              "      <td>0.0</td>\n",
              "      <td>2380</td>\n",
              "      <td>2380.0</td>\n",
              "    </tr>\n",
              "    <tr>\n",
              "      <th>2973</th>\n",
              "      <td>34.0</td>\n",
              "      <td>34</td>\n",
              "      <td>34.0</td>\n",
              "      <td>4760.0</td>\n",
              "      <td>0.0</td>\n",
              "      <td>0.0</td>\n",
              "      <td>2380</td>\n",
              "      <td>2380.0</td>\n",
              "    </tr>\n",
              "  </tbody>\n",
              "</table>\n",
              "<p>5000 rows × 8 columns</p>\n",
              "</div>\n",
              "      <button class=\"colab-df-convert\" onclick=\"convertToInteractive('df-f1a7b116-659a-4b5b-9613-fc400a7d8d91')\"\n",
              "              title=\"Convert this dataframe to an interactive table.\"\n",
              "              style=\"display:none;\">\n",
              "        \n",
              "  <svg xmlns=\"http://www.w3.org/2000/svg\" height=\"24px\"viewBox=\"0 0 24 24\"\n",
              "       width=\"24px\">\n",
              "    <path d=\"M0 0h24v24H0V0z\" fill=\"none\"/>\n",
              "    <path d=\"M18.56 5.44l.94 2.06.94-2.06 2.06-.94-2.06-.94-.94-2.06-.94 2.06-2.06.94zm-11 1L8.5 8.5l.94-2.06 2.06-.94-2.06-.94L8.5 2.5l-.94 2.06-2.06.94zm10 10l.94 2.06.94-2.06 2.06-.94-2.06-.94-.94-2.06-.94 2.06-2.06.94z\"/><path d=\"M17.41 7.96l-1.37-1.37c-.4-.4-.92-.59-1.43-.59-.52 0-1.04.2-1.43.59L10.3 9.45l-7.72 7.72c-.78.78-.78 2.05 0 2.83L4 21.41c.39.39.9.59 1.41.59.51 0 1.02-.2 1.41-.59l7.78-7.78 2.81-2.81c.8-.78.8-2.07 0-2.86zM5.41 20L4 18.59l7.72-7.72 1.47 1.35L5.41 20z\"/>\n",
              "  </svg>\n",
              "      </button>\n",
              "      \n",
              "  <style>\n",
              "    .colab-df-container {\n",
              "      display:flex;\n",
              "      flex-wrap:wrap;\n",
              "      gap: 12px;\n",
              "    }\n",
              "\n",
              "    .colab-df-convert {\n",
              "      background-color: #E8F0FE;\n",
              "      border: none;\n",
              "      border-radius: 50%;\n",
              "      cursor: pointer;\n",
              "      display: none;\n",
              "      fill: #1967D2;\n",
              "      height: 32px;\n",
              "      padding: 0 0 0 0;\n",
              "      width: 32px;\n",
              "    }\n",
              "\n",
              "    .colab-df-convert:hover {\n",
              "      background-color: #E2EBFA;\n",
              "      box-shadow: 0px 1px 2px rgba(60, 64, 67, 0.3), 0px 1px 3px 1px rgba(60, 64, 67, 0.15);\n",
              "      fill: #174EA6;\n",
              "    }\n",
              "\n",
              "    [theme=dark] .colab-df-convert {\n",
              "      background-color: #3B4455;\n",
              "      fill: #D2E3FC;\n",
              "    }\n",
              "\n",
              "    [theme=dark] .colab-df-convert:hover {\n",
              "      background-color: #434B5C;\n",
              "      box-shadow: 0px 1px 3px 1px rgba(0, 0, 0, 0.15);\n",
              "      filter: drop-shadow(0px 1px 2px rgba(0, 0, 0, 0.3));\n",
              "      fill: #FFFFFF;\n",
              "    }\n",
              "  </style>\n",
              "\n",
              "      <script>\n",
              "        const buttonEl =\n",
              "          document.querySelector('#df-f1a7b116-659a-4b5b-9613-fc400a7d8d91 button.colab-df-convert');\n",
              "        buttonEl.style.display =\n",
              "          google.colab.kernel.accessAllowed ? 'block' : 'none';\n",
              "\n",
              "        async function convertToInteractive(key) {\n",
              "          const element = document.querySelector('#df-f1a7b116-659a-4b5b-9613-fc400a7d8d91');\n",
              "          const dataTable =\n",
              "            await google.colab.kernel.invokeFunction('convertToInteractive',\n",
              "                                                     [key], {});\n",
              "          if (!dataTable) return;\n",
              "\n",
              "          const docLinkHtml = 'Like what you see? Visit the ' +\n",
              "            '<a target=\"_blank\" href=https://colab.research.google.com/notebooks/data_table.ipynb>data table notebook</a>'\n",
              "            + ' to learn more about interactive tables.';\n",
              "          element.innerHTML = '';\n",
              "          dataTable['output_type'] = 'display_data';\n",
              "          await google.colab.output.renderOutput(dataTable, element);\n",
              "          const docLink = document.createElement('div');\n",
              "          docLink.innerHTML = docLinkHtml;\n",
              "          element.appendChild(docLink);\n",
              "        }\n",
              "      </script>\n",
              "    </div>\n",
              "  </div>\n",
              "  "
            ]
          },
          "metadata": {},
          "execution_count": 53
        }
      ]
    },
    {
      "cell_type": "code",
      "source": [
        "df_optimize.sort_values(\"avg_profit\", ascending=False)"
      ],
      "metadata": {
        "colab": {
          "base_uri": "https://localhost:8080/",
          "height": 614
        },
        "id": "qbs8zURemY1R",
        "outputId": "57d77021-dfc4-40a8-86f1-d385a8498884"
      },
      "execution_count": 55,
      "outputs": [
        {
          "output_type": "execute_result",
          "data": {
            "text/plain": [
              "    order_size  avg_profit   sd_profit\n",
              "11          28     1709.96  241.005426\n",
              "10          27     1709.88  212.466030\n",
              "12          29     1700.38  264.428894\n",
              "9           26     1697.54  179.799928\n",
              "13          30     1683.18  281.920172\n",
              "8           25     1672.38  145.908853\n",
              "14          31     1660.10  293.075363\n",
              "7           24     1633.88  113.187932\n",
              "15          32     1633.48  299.445192\n",
              "16          33     1605.08  302.929277\n",
              "6           23     1584.24   84.177429\n",
              "17          34     1575.80  304.717788\n",
              "5           22     1526.32   60.146331\n",
              "4           21     1463.18   41.325890\n",
              "3           20     1396.72   27.081142\n",
              "2           19     1328.66   16.740981\n",
              "1           18     1259.46    9.681278\n",
              "0           17     1189.86    5.097607"
            ],
            "text/html": [
              "\n",
              "  <div id=\"df-60d7f895-c0f4-414a-b3bb-ad135c26e71f\">\n",
              "    <div class=\"colab-df-container\">\n",
              "      <div>\n",
              "<style scoped>\n",
              "    .dataframe tbody tr th:only-of-type {\n",
              "        vertical-align: middle;\n",
              "    }\n",
              "\n",
              "    .dataframe tbody tr th {\n",
              "        vertical-align: top;\n",
              "    }\n",
              "\n",
              "    .dataframe thead th {\n",
              "        text-align: right;\n",
              "    }\n",
              "</style>\n",
              "<table border=\"1\" class=\"dataframe\">\n",
              "  <thead>\n",
              "    <tr style=\"text-align: right;\">\n",
              "      <th></th>\n",
              "      <th>order_size</th>\n",
              "      <th>avg_profit</th>\n",
              "      <th>sd_profit</th>\n",
              "    </tr>\n",
              "  </thead>\n",
              "  <tbody>\n",
              "    <tr>\n",
              "      <th>11</th>\n",
              "      <td>28</td>\n",
              "      <td>1709.96</td>\n",
              "      <td>241.005426</td>\n",
              "    </tr>\n",
              "    <tr>\n",
              "      <th>10</th>\n",
              "      <td>27</td>\n",
              "      <td>1709.88</td>\n",
              "      <td>212.466030</td>\n",
              "    </tr>\n",
              "    <tr>\n",
              "      <th>12</th>\n",
              "      <td>29</td>\n",
              "      <td>1700.38</td>\n",
              "      <td>264.428894</td>\n",
              "    </tr>\n",
              "    <tr>\n",
              "      <th>9</th>\n",
              "      <td>26</td>\n",
              "      <td>1697.54</td>\n",
              "      <td>179.799928</td>\n",
              "    </tr>\n",
              "    <tr>\n",
              "      <th>13</th>\n",
              "      <td>30</td>\n",
              "      <td>1683.18</td>\n",
              "      <td>281.920172</td>\n",
              "    </tr>\n",
              "    <tr>\n",
              "      <th>8</th>\n",
              "      <td>25</td>\n",
              "      <td>1672.38</td>\n",
              "      <td>145.908853</td>\n",
              "    </tr>\n",
              "    <tr>\n",
              "      <th>14</th>\n",
              "      <td>31</td>\n",
              "      <td>1660.10</td>\n",
              "      <td>293.075363</td>\n",
              "    </tr>\n",
              "    <tr>\n",
              "      <th>7</th>\n",
              "      <td>24</td>\n",
              "      <td>1633.88</td>\n",
              "      <td>113.187932</td>\n",
              "    </tr>\n",
              "    <tr>\n",
              "      <th>15</th>\n",
              "      <td>32</td>\n",
              "      <td>1633.48</td>\n",
              "      <td>299.445192</td>\n",
              "    </tr>\n",
              "    <tr>\n",
              "      <th>16</th>\n",
              "      <td>33</td>\n",
              "      <td>1605.08</td>\n",
              "      <td>302.929277</td>\n",
              "    </tr>\n",
              "    <tr>\n",
              "      <th>6</th>\n",
              "      <td>23</td>\n",
              "      <td>1584.24</td>\n",
              "      <td>84.177429</td>\n",
              "    </tr>\n",
              "    <tr>\n",
              "      <th>17</th>\n",
              "      <td>34</td>\n",
              "      <td>1575.80</td>\n",
              "      <td>304.717788</td>\n",
              "    </tr>\n",
              "    <tr>\n",
              "      <th>5</th>\n",
              "      <td>22</td>\n",
              "      <td>1526.32</td>\n",
              "      <td>60.146331</td>\n",
              "    </tr>\n",
              "    <tr>\n",
              "      <th>4</th>\n",
              "      <td>21</td>\n",
              "      <td>1463.18</td>\n",
              "      <td>41.325890</td>\n",
              "    </tr>\n",
              "    <tr>\n",
              "      <th>3</th>\n",
              "      <td>20</td>\n",
              "      <td>1396.72</td>\n",
              "      <td>27.081142</td>\n",
              "    </tr>\n",
              "    <tr>\n",
              "      <th>2</th>\n",
              "      <td>19</td>\n",
              "      <td>1328.66</td>\n",
              "      <td>16.740981</td>\n",
              "    </tr>\n",
              "    <tr>\n",
              "      <th>1</th>\n",
              "      <td>18</td>\n",
              "      <td>1259.46</td>\n",
              "      <td>9.681278</td>\n",
              "    </tr>\n",
              "    <tr>\n",
              "      <th>0</th>\n",
              "      <td>17</td>\n",
              "      <td>1189.86</td>\n",
              "      <td>5.097607</td>\n",
              "    </tr>\n",
              "  </tbody>\n",
              "</table>\n",
              "</div>\n",
              "      <button class=\"colab-df-convert\" onclick=\"convertToInteractive('df-60d7f895-c0f4-414a-b3bb-ad135c26e71f')\"\n",
              "              title=\"Convert this dataframe to an interactive table.\"\n",
              "              style=\"display:none;\">\n",
              "        \n",
              "  <svg xmlns=\"http://www.w3.org/2000/svg\" height=\"24px\"viewBox=\"0 0 24 24\"\n",
              "       width=\"24px\">\n",
              "    <path d=\"M0 0h24v24H0V0z\" fill=\"none\"/>\n",
              "    <path d=\"M18.56 5.44l.94 2.06.94-2.06 2.06-.94-2.06-.94-.94-2.06-.94 2.06-2.06.94zm-11 1L8.5 8.5l.94-2.06 2.06-.94-2.06-.94L8.5 2.5l-.94 2.06-2.06.94zm10 10l.94 2.06.94-2.06 2.06-.94-2.06-.94-.94-2.06-.94 2.06-2.06.94z\"/><path d=\"M17.41 7.96l-1.37-1.37c-.4-.4-.92-.59-1.43-.59-.52 0-1.04.2-1.43.59L10.3 9.45l-7.72 7.72c-.78.78-.78 2.05 0 2.83L4 21.41c.39.39.9.59 1.41.59.51 0 1.02-.2 1.41-.59l7.78-7.78 2.81-2.81c.8-.78.8-2.07 0-2.86zM5.41 20L4 18.59l7.72-7.72 1.47 1.35L5.41 20z\"/>\n",
              "  </svg>\n",
              "      </button>\n",
              "      \n",
              "  <style>\n",
              "    .colab-df-container {\n",
              "      display:flex;\n",
              "      flex-wrap:wrap;\n",
              "      gap: 12px;\n",
              "    }\n",
              "\n",
              "    .colab-df-convert {\n",
              "      background-color: #E8F0FE;\n",
              "      border: none;\n",
              "      border-radius: 50%;\n",
              "      cursor: pointer;\n",
              "      display: none;\n",
              "      fill: #1967D2;\n",
              "      height: 32px;\n",
              "      padding: 0 0 0 0;\n",
              "      width: 32px;\n",
              "    }\n",
              "\n",
              "    .colab-df-convert:hover {\n",
              "      background-color: #E2EBFA;\n",
              "      box-shadow: 0px 1px 2px rgba(60, 64, 67, 0.3), 0px 1px 3px 1px rgba(60, 64, 67, 0.15);\n",
              "      fill: #174EA6;\n",
              "    }\n",
              "\n",
              "    [theme=dark] .colab-df-convert {\n",
              "      background-color: #3B4455;\n",
              "      fill: #D2E3FC;\n",
              "    }\n",
              "\n",
              "    [theme=dark] .colab-df-convert:hover {\n",
              "      background-color: #434B5C;\n",
              "      box-shadow: 0px 1px 3px 1px rgba(0, 0, 0, 0.15);\n",
              "      filter: drop-shadow(0px 1px 2px rgba(0, 0, 0, 0.3));\n",
              "      fill: #FFFFFF;\n",
              "    }\n",
              "  </style>\n",
              "\n",
              "      <script>\n",
              "        const buttonEl =\n",
              "          document.querySelector('#df-60d7f895-c0f4-414a-b3bb-ad135c26e71f button.colab-df-convert');\n",
              "        buttonEl.style.display =\n",
              "          google.colab.kernel.accessAllowed ? 'block' : 'none';\n",
              "\n",
              "        async function convertToInteractive(key) {\n",
              "          const element = document.querySelector('#df-60d7f895-c0f4-414a-b3bb-ad135c26e71f');\n",
              "          const dataTable =\n",
              "            await google.colab.kernel.invokeFunction('convertToInteractive',\n",
              "                                                     [key], {});\n",
              "          if (!dataTable) return;\n",
              "\n",
              "          const docLinkHtml = 'Like what you see? Visit the ' +\n",
              "            '<a target=\"_blank\" href=https://colab.research.google.com/notebooks/data_table.ipynb>data table notebook</a>'\n",
              "            + ' to learn more about interactive tables.';\n",
              "          element.innerHTML = '';\n",
              "          dataTable['output_type'] = 'display_data';\n",
              "          await google.colab.output.renderOutput(dataTable, element);\n",
              "          const docLink = document.createElement('div');\n",
              "          docLink.innerHTML = docLinkHtml;\n",
              "          element.appendChild(docLink);\n",
              "        }\n",
              "      </script>\n",
              "    </div>\n",
              "  </div>\n",
              "  "
            ]
          },
          "metadata": {},
          "execution_count": 55
        }
      ]
    },
    {
      "cell_type": "code",
      "source": [
        "#Clearly state the recommended order size and profit estimates based on your results \n",
        "#- simply showing output of running code does not suffice,\n",
        "# provide an interpretation and justification in your own words\n",
        "recommended_order_size = int(df_optimize.order_size[df_optimize.avg_profit.idxmax()])\n",
        "expected_profit = df_optimize.avg_profit.max()\n",
        "print(f'Recommended order size: {recommended_order_size}, Expected profit: ${expected_profit:.2f}')"
      ],
      "metadata": {
        "colab": {
          "base_uri": "https://localhost:8080/"
        },
        "id": "M15QvVBombIK",
        "outputId": "78fc82fa-8ab4-403c-9036-9aabf99231ad"
      },
      "execution_count": 56,
      "outputs": [
        {
          "output_type": "stream",
          "name": "stdout",
          "text": [
            "Recommended order size: 28, Expected profit: $1709.96\n"
          ]
        }
      ]
    },
    {
      "cell_type": "markdown",
      "source": [
        "Optimal Inventory Management Strategy.\n",
        "Based on the above result, the recommended order size for L.L Bean is 28, meaning L.L Bean should order 28 parkas in order to maximize the average profit of $1709.96 over the winter selling season.\n"
      ],
      "metadata": {
        "id": "ewEe0gSyqtIE"
      }
    },
    {
      "cell_type": "code",
      "source": [
        "#Plot the relationship between avg profit vs. order level and sd of profit vs. order level\n",
        "df_optimize.plot.scatter(x='order_size',y='avg_profit',xticks=range(15, 40))\n",
        "df_optimize.plot.scatter(x='order_size',y='sd_profit',xticks=range(15, 40))"
      ],
      "metadata": {
        "colab": {
          "base_uri": "https://localhost:8080/",
          "height": 900
        },
        "id": "HZ80XIEmmxsG",
        "outputId": "f7dbade8-2d44-47cf-d9b2-2bd076bd82b2"
      },
      "execution_count": 57,
      "outputs": [
        {
          "output_type": "execute_result",
          "data": {
            "text/plain": [
              "<Axes: xlabel='order_size', ylabel='sd_profit'>"
            ]
          },
          "metadata": {},
          "execution_count": 57
        },
        {
          "output_type": "display_data",
          "data": {
            "text/plain": [
              "<Figure size 640x480 with 1 Axes>"
            ],
            "image/png": "[encoded data removed]"
          },
          "metadata": {}
        },
        {
          "output_type": "display_data",
          "data": {
            "text/plain": [
              "<Figure size 640x480 with 1 Axes>"
            ],
            "image/png": "[encoded data removed]"
          },
          "metadata": {}
        }
      ]
    },
    {
      "cell_type": "code",
      "source": [
        "#Plot the profit risk in terms of the efficiency frontier (avg profit vs. sd profit)\n",
        "df_optimize.plot.scatter(y='avg_profit',x='sd_profit').set(ylabel=\"Expected Profit (avg_profit)\", xlabel=\"Uncertainty (sd_profit)\")"
      ],
      "metadata": {
        "colab": {
          "base_uri": "https://localhost:8080/",
          "height": 485
        },
        "id": "ivT0Umxcm8Dv",
        "outputId": "5a9c5e21-0ef8-4f13-9b42-70e9a24335cc"
      },
      "execution_count": 58,
      "outputs": [
        {
          "output_type": "execute_result",
          "data": {
            "text/plain": [
              "[Text(0, 0.5, 'Expected Profit (avg_profit)'),\n",
              " Text(0.5, 0, 'Uncertainty (sd_profit)')]"
            ]
          },
          "metadata": {},
          "execution_count": 58
        },
        {
          "output_type": "display_data",
          "data": {
            "text/plain": [
              "<Figure size 640x480 with 1 Axes>"
            ],
            "image/png": "[encoded data removed]"
          },
          "metadata": {}
        }
      ]
    }
  ]
}