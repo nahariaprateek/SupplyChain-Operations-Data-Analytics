{
  "nbformat": 4,
  "nbformat_minor": 0,
  "metadata": {
    "colab": {
      "provenance": []
    },
    "kernelspec": {
      "name": "python3",
      "display_name": "Python 3"
    },
    "language_info": {
      "name": "python"
    }
  },
  "cells": [
    {
      "cell_type": "markdown",
      "source": [
        "# BA875 Operations and Supply Chain Analytics (Spring 2023)\n",
        "Homework Assignment 1\n",
        "\n",
        "Name : Prateek Naharia \n",
        "\n",
        "nahariap@bu.edu\n"
      ],
      "metadata": {
        "id": "Ok1oGXmYL_C4"
      }
    },
    {
      "cell_type": "markdown",
      "source": [
        "##Importing the dataset & Data Exploration"
      ],
      "metadata": {
        "id": "XlrhhsfygsaQ"
      }
    },
    {
      "cell_type": "code",
      "execution_count": 87,
      "metadata": {
        "id": "UM2YCiC0foub"
      },
      "outputs": [],
      "source": [
        "import pandas as pd\n",
        "jean_url = 'https://raw.githubusercontent.com/nahariaprateek/SuppyChain_Analytics/main/datasets_course/jeans_data.csv'\n",
        "#directly fetching dataset from github repository \n",
        "#https://github.com/nahariaprateek/SuppyChain_Analytics/tree/main/datasets_course\n",
        "dfjeans = pd.read_csv(jean_url)\n",
        "#dfjeans = pd.read_excel(\"jeans_data.xlsx\")"
      ]
    },
    {
      "cell_type": "code",
      "source": [
        "dfjeans.tail(5)"
      ],
      "metadata": {
        "colab": {
          "base_uri": "https://localhost:8080/",
          "height": 206
        },
        "id": "NkEq015pkjzn",
        "outputId": "95451f23-e60e-4d85-ce50-97ee6291a9b7"
      },
      "execution_count": 103,
      "outputs": [
        {
          "output_type": "execute_result",
          "data": {
            "text/plain": [
              "    week  sales   price special_event  se_indicator  discount\n",
              "21    22     59  135.00           NaN             0       0.0\n",
              "22    23     55  135.00           NaN             0       0.0\n",
              "23    24    168  101.25           NaN             0      25.0\n",
              "24    25     48  135.00           NaN             0       0.0\n",
              "25    26     73  135.00           NaN             0       0.0"
            ],
            "text/html": [
              "\n",
              "  <div id=\"df-52463395-03a7-401f-bbd3-41ca6f5884fa\">\n",
              "    <div class=\"colab-df-container\">\n",
              "      <div>\n",
              "<style scoped>\n",
              "    .dataframe tbody tr th:only-of-type {\n",
              "        vertical-align: middle;\n",
              "    }\n",
              "\n",
              "    .dataframe tbody tr th {\n",
              "        vertical-align: top;\n",
              "    }\n",
              "\n",
              "    .dataframe thead th {\n",
              "        text-align: right;\n",
              "    }\n",
              "</style>\n",
              "<table border=\"1\" class=\"dataframe\">\n",
              "  <thead>\n",
              "    <tr style=\"text-align: right;\">\n",
              "      <th></th>\n",
              "      <th>week</th>\n",
              "      <th>sales</th>\n",
              "      <th>price</th>\n",
              "      <th>special_event</th>\n",
              "      <th>se_indicator</th>\n",
              "      <th>discount</th>\n",
              "    </tr>\n",
              "  </thead>\n",
              "  <tbody>\n",
              "    <tr>\n",
              "      <th>21</th>\n",
              "      <td>22</td>\n",
              "      <td>59</td>\n",
              "      <td>135.00</td>\n",
              "      <td>NaN</td>\n",
              "      <td>0</td>\n",
              "      <td>0.0</td>\n",
              "    </tr>\n",
              "    <tr>\n",
              "      <th>22</th>\n",
              "      <td>23</td>\n",
              "      <td>55</td>\n",
              "      <td>135.00</td>\n",
              "      <td>NaN</td>\n",
              "      <td>0</td>\n",
              "      <td>0.0</td>\n",
              "    </tr>\n",
              "    <tr>\n",
              "      <th>23</th>\n",
              "      <td>24</td>\n",
              "      <td>168</td>\n",
              "      <td>101.25</td>\n",
              "      <td>NaN</td>\n",
              "      <td>0</td>\n",
              "      <td>25.0</td>\n",
              "    </tr>\n",
              "    <tr>\n",
              "      <th>24</th>\n",
              "      <td>25</td>\n",
              "      <td>48</td>\n",
              "      <td>135.00</td>\n",
              "      <td>NaN</td>\n",
              "      <td>0</td>\n",
              "      <td>0.0</td>\n",
              "    </tr>\n",
              "    <tr>\n",
              "      <th>25</th>\n",
              "      <td>26</td>\n",
              "      <td>73</td>\n",
              "      <td>135.00</td>\n",
              "      <td>NaN</td>\n",
              "      <td>0</td>\n",
              "      <td>0.0</td>\n",
              "    </tr>\n",
              "  </tbody>\n",
              "</table>\n",
              "</div>\n",
              "      <button class=\"colab-df-convert\" onclick=\"convertToInteractive('df-52463395-03a7-401f-bbd3-41ca6f5884fa')\"\n",
              "              title=\"Convert this dataframe to an interactive table.\"\n",
              "              style=\"display:none;\">\n",
              "        \n",
              "  <svg xmlns=\"http://www.w3.org/2000/svg\" height=\"24px\"viewBox=\"0 0 24 24\"\n",
              "       width=\"24px\">\n",
              "    <path d=\"M0 0h24v24H0V0z\" fill=\"none\"/>\n",
              "    <path d=\"M18.56 5.44l.94 2.06.94-2.06 2.06-.94-2.06-.94-.94-2.06-.94 2.06-2.06.94zm-11 1L8.5 8.5l.94-2.06 2.06-.94-2.06-.94L8.5 2.5l-.94 2.06-2.06.94zm10 10l.94 2.06.94-2.06 2.06-.94-2.06-.94-.94-2.06-.94 2.06-2.06.94z\"/><path d=\"M17.41 7.96l-1.37-1.37c-.4-.4-.92-.59-1.43-.59-.52 0-1.04.2-1.43.59L10.3 9.45l-7.72 7.72c-.78.78-.78 2.05 0 2.83L4 21.41c.39.39.9.59 1.41.59.51 0 1.02-.2 1.41-.59l7.78-7.78 2.81-2.81c.8-.78.8-2.07 0-2.86zM5.41 20L4 18.59l7.72-7.72 1.47 1.35L5.41 20z\"/>\n",
              "  </svg>\n",
              "      </button>\n",
              "      \n",
              "  <style>\n",
              "    .colab-df-container {\n",
              "      display:flex;\n",
              "      flex-wrap:wrap;\n",
              "      gap: 12px;\n",
              "    }\n",
              "\n",
              "    .colab-df-convert {\n",
              "      background-color: #E8F0FE;\n",
              "      border: none;\n",
              "      border-radius: 50%;\n",
              "      cursor: pointer;\n",
              "      display: none;\n",
              "      fill: #1967D2;\n",
              "      height: 32px;\n",
              "      padding: 0 0 0 0;\n",
              "      width: 32px;\n",
              "    }\n",
              "\n",
              "    .colab-df-convert:hover {\n",
              "      background-color: #E2EBFA;\n",
              "      box-shadow: 0px 1px 2px rgba(60, 64, 67, 0.3), 0px 1px 3px 1px rgba(60, 64, 67, 0.15);\n",
              "      fill: #174EA6;\n",
              "    }\n",
              "\n",
              "    [theme=dark] .colab-df-convert {\n",
              "      background-color: #3B4455;\n",
              "      fill: #D2E3FC;\n",
              "    }\n",
              "\n",
              "    [theme=dark] .colab-df-convert:hover {\n",
              "      background-color: #434B5C;\n",
              "      box-shadow: 0px 1px 3px 1px rgba(0, 0, 0, 0.15);\n",
              "      filter: drop-shadow(0px 1px 2px rgba(0, 0, 0, 0.3));\n",
              "      fill: #FFFFFF;\n",
              "    }\n",
              "  </style>\n",
              "\n",
              "      <script>\n",
              "        const buttonEl =\n",
              "          document.querySelector('#df-52463395-03a7-401f-bbd3-41ca6f5884fa button.colab-df-convert');\n",
              "        buttonEl.style.display =\n",
              "          google.colab.kernel.accessAllowed ? 'block' : 'none';\n",
              "\n",
              "        async function convertToInteractive(key) {\n",
              "          const element = document.querySelector('#df-52463395-03a7-401f-bbd3-41ca6f5884fa');\n",
              "          const dataTable =\n",
              "            await google.colab.kernel.invokeFunction('convertToInteractive',\n",
              "                                                     [key], {});\n",
              "          if (!dataTable) return;\n",
              "\n",
              "          const docLinkHtml = 'Like what you see? Visit the ' +\n",
              "            '<a target=\"_blank\" href=https://colab.research.google.com/notebooks/data_table.ipynb>data table notebook</a>'\n",
              "            + ' to learn more about interactive tables.';\n",
              "          element.innerHTML = '';\n",
              "          dataTable['output_type'] = 'display_data';\n",
              "          await google.colab.output.renderOutput(dataTable, element);\n",
              "          const docLink = document.createElement('div');\n",
              "          docLink.innerHTML = docLinkHtml;\n",
              "          element.appendChild(docLink);\n",
              "        }\n",
              "      </script>\n",
              "    </div>\n",
              "  </div>\n",
              "  "
            ]
          },
          "metadata": {},
          "execution_count": 103
        }
      ]
    },
    {
      "cell_type": "code",
      "source": [
        "dfjeans.info()"
      ],
      "metadata": {
        "colab": {
          "base_uri": "https://localhost:8080/"
        },
        "id": "StMV34itkk-G",
        "outputId": "22cb1430-bbbf-4ad9-8be7-e5ec5138d511"
      },
      "execution_count": 89,
      "outputs": [
        {
          "output_type": "stream",
          "name": "stdout",
          "text": [
            "<class 'pandas.core.frame.DataFrame'>\n",
            "RangeIndex: 26 entries, 0 to 25\n",
            "Data columns (total 5 columns):\n",
            " #   Column         Non-Null Count  Dtype  \n",
            "---  ------         --------------  -----  \n",
            " 0   week           26 non-null     int64  \n",
            " 1   sales          26 non-null     int64  \n",
            " 2   price          26 non-null     float64\n",
            " 3   special_event  4 non-null      object \n",
            " 4   se_indicator   26 non-null     int64  \n",
            "dtypes: float64(1), int64(3), object(1)\n",
            "memory usage: 1.1+ KB\n"
          ]
        }
      ]
    },
    {
      "cell_type": "code",
      "source": [
        "dfjeans.describe()"
      ],
      "metadata": {
        "colab": {
          "base_uri": "https://localhost:8080/",
          "height": 300
        },
        "id": "J1Eqi1pPky70",
        "outputId": "b1291f8f-9845-434b-a081-f69a53df2f80"
      },
      "execution_count": 90,
      "outputs": [
        {
          "output_type": "execute_result",
          "data": {
            "text/plain": [
              "            week       sales       price  se_indicator\n",
              "count  26.000000   26.000000   26.000000     26.000000\n",
              "mean   13.500000   92.115385  128.769231      0.153846\n",
              "std     7.648529   65.149875   12.063151      0.367946\n",
              "min     1.000000   46.000000  101.250000      0.000000\n",
              "25%     7.250000   51.000000  135.000000      0.000000\n",
              "50%    13.500000   62.500000  135.000000      0.000000\n",
              "75%    19.750000   78.250000  135.000000      0.000000\n",
              "max    26.000000  253.000000  135.000000      1.000000"
            ],
            "text/html": [
              "\n",
              "  <div id=\"df-1cefe17f-4f7d-4bca-a996-1b85c4197ab0\">\n",
              "    <div class=\"colab-df-container\">\n",
              "      <div>\n",
              "<style scoped>\n",
              "    .dataframe tbody tr th:only-of-type {\n",
              "        vertical-align: middle;\n",
              "    }\n",
              "\n",
              "    .dataframe tbody tr th {\n",
              "        vertical-align: top;\n",
              "    }\n",
              "\n",
              "    .dataframe thead th {\n",
              "        text-align: right;\n",
              "    }\n",
              "</style>\n",
              "<table border=\"1\" class=\"dataframe\">\n",
              "  <thead>\n",
              "    <tr style=\"text-align: right;\">\n",
              "      <th></th>\n",
              "      <th>week</th>\n",
              "      <th>sales</th>\n",
              "      <th>price</th>\n",
              "      <th>se_indicator</th>\n",
              "    </tr>\n",
              "  </thead>\n",
              "  <tbody>\n",
              "    <tr>\n",
              "      <th>count</th>\n",
              "      <td>26.000000</td>\n",
              "      <td>26.000000</td>\n",
              "      <td>26.000000</td>\n",
              "      <td>26.000000</td>\n",
              "    </tr>\n",
              "    <tr>\n",
              "      <th>mean</th>\n",
              "      <td>13.500000</td>\n",
              "      <td>92.115385</td>\n",
              "      <td>128.769231</td>\n",
              "      <td>0.153846</td>\n",
              "    </tr>\n",
              "    <tr>\n",
              "      <th>std</th>\n",
              "      <td>7.648529</td>\n",
              "      <td>65.149875</td>\n",
              "      <td>12.063151</td>\n",
              "      <td>0.367946</td>\n",
              "    </tr>\n",
              "    <tr>\n",
              "      <th>min</th>\n",
              "      <td>1.000000</td>\n",
              "      <td>46.000000</td>\n",
              "      <td>101.250000</td>\n",
              "      <td>0.000000</td>\n",
              "    </tr>\n",
              "    <tr>\n",
              "      <th>25%</th>\n",
              "      <td>7.250000</td>\n",
              "      <td>51.000000</td>\n",
              "      <td>135.000000</td>\n",
              "      <td>0.000000</td>\n",
              "    </tr>\n",
              "    <tr>\n",
              "      <th>50%</th>\n",
              "      <td>13.500000</td>\n",
              "      <td>62.500000</td>\n",
              "      <td>135.000000</td>\n",
              "      <td>0.000000</td>\n",
              "    </tr>\n",
              "    <tr>\n",
              "      <th>75%</th>\n",
              "      <td>19.750000</td>\n",
              "      <td>78.250000</td>\n",
              "      <td>135.000000</td>\n",
              "      <td>0.000000</td>\n",
              "    </tr>\n",
              "    <tr>\n",
              "      <th>max</th>\n",
              "      <td>26.000000</td>\n",
              "      <td>253.000000</td>\n",
              "      <td>135.000000</td>\n",
              "      <td>1.000000</td>\n",
              "    </tr>\n",
              "  </tbody>\n",
              "</table>\n",
              "</div>\n",
              "      <button class=\"colab-df-convert\" onclick=\"convertToInteractive('df-1cefe17f-4f7d-4bca-a996-1b85c4197ab0')\"\n",
              "              title=\"Convert this dataframe to an interactive table.\"\n",
              "              style=\"display:none;\">\n",
              "        \n",
              "  <svg xmlns=\"http://www.w3.org/2000/svg\" height=\"24px\"viewBox=\"0 0 24 24\"\n",
              "       width=\"24px\">\n",
              "    <path d=\"M0 0h24v24H0V0z\" fill=\"none\"/>\n",
              "    <path d=\"M18.56 5.44l.94 2.06.94-2.06 2.06-.94-2.06-.94-.94-2.06-.94 2.06-2.06.94zm-11 1L8.5 8.5l.94-2.06 2.06-.94-2.06-.94L8.5 2.5l-.94 2.06-2.06.94zm10 10l.94 2.06.94-2.06 2.06-.94-2.06-.94-.94-2.06-.94 2.06-2.06.94z\"/><path d=\"M17.41 7.96l-1.37-1.37c-.4-.4-.92-.59-1.43-.59-.52 0-1.04.2-1.43.59L10.3 9.45l-7.72 7.72c-.78.78-.78 2.05 0 2.83L4 21.41c.39.39.9.59 1.41.59.51 0 1.02-.2 1.41-.59l7.78-7.78 2.81-2.81c.8-.78.8-2.07 0-2.86zM5.41 20L4 18.59l7.72-7.72 1.47 1.35L5.41 20z\"/>\n",
              "  </svg>\n",
              "      </button>\n",
              "      \n",
              "  <style>\n",
              "    .colab-df-container {\n",
              "      display:flex;\n",
              "      flex-wrap:wrap;\n",
              "      gap: 12px;\n",
              "    }\n",
              "\n",
              "    .colab-df-convert {\n",
              "      background-color: #E8F0FE;\n",
              "      border: none;\n",
              "      border-radius: 50%;\n",
              "      cursor: pointer;\n",
              "      display: none;\n",
              "      fill: #1967D2;\n",
              "      height: 32px;\n",
              "      padding: 0 0 0 0;\n",
              "      width: 32px;\n",
              "    }\n",
              "\n",
              "    .colab-df-convert:hover {\n",
              "      background-color: #E2EBFA;\n",
              "      box-shadow: 0px 1px 2px rgba(60, 64, 67, 0.3), 0px 1px 3px 1px rgba(60, 64, 67, 0.15);\n",
              "      fill: #174EA6;\n",
              "    }\n",
              "\n",
              "    [theme=dark] .colab-df-convert {\n",
              "      background-color: #3B4455;\n",
              "      fill: #D2E3FC;\n",
              "    }\n",
              "\n",
              "    [theme=dark] .colab-df-convert:hover {\n",
              "      background-color: #434B5C;\n",
              "      box-shadow: 0px 1px 3px 1px rgba(0, 0, 0, 0.15);\n",
              "      filter: drop-shadow(0px 1px 2px rgba(0, 0, 0, 0.3));\n",
              "      fill: #FFFFFF;\n",
              "    }\n",
              "  </style>\n",
              "\n",
              "      <script>\n",
              "        const buttonEl =\n",
              "          document.querySelector('#df-1cefe17f-4f7d-4bca-a996-1b85c4197ab0 button.colab-df-convert');\n",
              "        buttonEl.style.display =\n",
              "          google.colab.kernel.accessAllowed ? 'block' : 'none';\n",
              "\n",
              "        async function convertToInteractive(key) {\n",
              "          const element = document.querySelector('#df-1cefe17f-4f7d-4bca-a996-1b85c4197ab0');\n",
              "          const dataTable =\n",
              "            await google.colab.kernel.invokeFunction('convertToInteractive',\n",
              "                                                     [key], {});\n",
              "          if (!dataTable) return;\n",
              "\n",
              "          const docLinkHtml = 'Like what you see? Visit the ' +\n",
              "            '<a target=\"_blank\" href=https://colab.research.google.com/notebooks/data_table.ipynb>data table notebook</a>'\n",
              "            + ' to learn more about interactive tables.';\n",
              "          element.innerHTML = '';\n",
              "          dataTable['output_type'] = 'display_data';\n",
              "          await google.colab.output.renderOutput(dataTable, element);\n",
              "          const docLink = document.createElement('div');\n",
              "          docLink.innerHTML = docLinkHtml;\n",
              "          element.appendChild(docLink);\n",
              "        }\n",
              "      </script>\n",
              "    </div>\n",
              "  </div>\n",
              "  "
            ]
          },
          "metadata": {},
          "execution_count": 90
        }
      ]
    },
    {
      "cell_type": "markdown",
      "source": [
        "From the above code, we can get an idea of all the stats, aggregation summary of the dataset.\n",
        "Having Count as 26, mean, standard deviation, minimum & max values in week, sales, price & se_indicator."
      ],
      "metadata": {
        "id": "9buUcYAbFGLy"
      }
    },
    {
      "cell_type": "code",
      "source": [
        "dfjeans[\"sales\"].plot.hist()"
      ],
      "metadata": {
        "colab": {
          "base_uri": "https://localhost:8080/",
          "height": 283
        },
        "id": "FyXd5Iwgk1pn",
        "outputId": "aa4e76f6-fb5e-42b2-db25-f8f07207762d"
      },
      "execution_count": 91,
      "outputs": [
        {
          "output_type": "execute_result",
          "data": {
            "text/plain": [
              "<Axes: ylabel='Frequency'>"
            ]
          },
          "metadata": {},
          "execution_count": 91
        },
        {
          "output_type": "display_data",
          "data": {
            "text/plain": [
              "<Figure size 432x288 with 1 Axes>"
            ],
            "image/png": "[encoded data removed]"
          },
          "metadata": {
            "needs_background": "light"
          }
        }
      ]
    },
    {
      "cell_type": "code",
      "source": [
        "dfjeans.price.value_counts()"
      ],
      "metadata": {
        "colab": {
          "base_uri": "https://localhost:8080/"
        },
        "id": "v0ZWDvA3lcEi",
        "outputId": "7fed68db-5bb7-4471-ebfc-a9bdd97d2a26"
      },
      "execution_count": 92,
      "outputs": [
        {
          "output_type": "execute_result",
          "data": {
            "text/plain": [
              "135.00    20\n",
              "114.75     3\n",
              "101.25     3\n",
              "Name: price, dtype: int64"
            ]
          },
          "metadata": {},
          "execution_count": 92
        }
      ]
    },
    {
      "cell_type": "code",
      "source": [
        "dfjeans.plot.scatter(x=\"price\",y=\"sales\")"
      ],
      "metadata": {
        "colab": {
          "base_uri": "https://localhost:8080/",
          "height": 353
        },
        "id": "8-ivZMkdlnsk",
        "outputId": "737684da-2797-485a-bf9c-3a6062bafd43"
      },
      "execution_count": 93,
      "outputs": [
        {
          "output_type": "stream",
          "name": "stderr",
          "text": [
            "/usr/local/lib/python3.9/dist-packages/pandas/plotting/_matplotlib/core.py:1114: UserWarning: No data for colormapping provided via 'c'. Parameters 'cmap' will be ignored\n",
            "  scatter = ax.scatter(\n"
          ]
        },
        {
          "output_type": "execute_result",
          "data": {
            "text/plain": [
              "<Axes: xlabel='price', ylabel='sales'>"
            ]
          },
          "metadata": {},
          "execution_count": 93
        },
        {
          "output_type": "display_data",
          "data": {
            "text/plain": [
              "<Figure size 432x288 with 1 Axes>"
            ],
            "image/png": "[encoded data removed]"
          },
          "metadata": {
            "needs_background": "light"
          }
        }
      ]
    },
    {
      "cell_type": "markdown",
      "source": [
        "##StatsMODELS\n",
        "olsjeans = sm.OLS(y, X).fit()"
      ],
      "metadata": {
        "id": "KxPg6DnRESF4"
      }
    },
    {
      "cell_type": "markdown",
      "source": [
        "###Model 1\n",
        "\n",
        "Question/ instructions for model I\n",
        "\n",
        "Model I: Price (in $) and special event indicator as an independent variable\n",
        "\n",
        "• Calculate the predicted sales from promo (P) when directly including price and special event indicator as independent variables into a regression model\n",
        "\n",
        "• Make sure to interpret your results, including the regression estimation\n",
        "\n",
        "\n",
        "We are interested in giving the retailer a sense of its estimated sales if it decided tooffer a new promo to predict sales for a week in the future, i.e., they want you to predict the salesfor a future week given you offer promo (P): “$25 Off” (not 25% off) promotion specificallyduring a special event period. (Hint: after regression, apply the .predict() method)."
      ],
      "metadata": {
        "id": "KUogHvTpswoC"
      }
    },
    {
      "cell_type": "code",
      "source": [
        "# Prepare the data\n",
        "import statsmodels.api as sm\n",
        "X = sm.add_constant(dfjeans[['price', 'se_indicator']])#independent variables\n",
        "y = dfjeans['sales'] #dependent variable or the target variable"
      ],
      "metadata": {
        "id": "tsFqeCFvotCa"
      },
      "execution_count": 104,
      "outputs": []
    },
    {
      "cell_type": "code",
      "source": [
        "# Fitting the model & printing summary\n",
        "first_model = sm.OLS(y, X).fit()\n",
        "print(first_model.summary())\n",
        "#first_model.summary()"
      ],
      "metadata": {
        "colab": {
          "base_uri": "https://localhost:8080/"
        },
        "id": "P5PsWrRFziPt",
        "outputId": "4c45d1e2-69e2-4fde-8281-744f85d74e58"
      },
      "execution_count": 106,
      "outputs": [
        {
          "output_type": "stream",
          "name": "stdout",
          "text": [
            "                            OLS Regression Results                            \n",
            "==============================================================================\n",
            "Dep. Variable:                  sales   R-squared:                       0.963\n",
            "Model:                            OLS   Adj. R-squared:                  0.959\n",
            "Method:                 Least Squares   F-statistic:                     295.4\n",
            "Date:                Wed, 29 Mar 2023   Prob (F-statistic):           3.96e-17\n",
            "Time:                        16:29:39   Log-Likelihood:                -102.28\n",
            "No. Observations:                  26   AIC:                             210.6\n",
            "Df Residuals:                      23   BIC:                             214.3\n",
            "Df Model:                           2                                         \n",
            "Covariance Type:            nonrobust                                         \n",
            "================================================================================\n",
            "                   coef    std err          t      P>|t|      [0.025      0.975]\n",
            "--------------------------------------------------------------------------------\n",
            "const          509.0259     43.675     11.655      0.000     418.677     599.375\n",
            "price           -3.3287      0.329    -10.123      0.000      -4.009      -2.648\n",
            "se_indicator    76.2267     10.781      7.071      0.000      53.925      98.528\n",
            "==============================================================================\n",
            "Omnibus:                        1.399   Durbin-Watson:                   1.189\n",
            "Prob(Omnibus):                  0.497   Jarque-Bera (JB):                1.214\n",
            "Skew:                           0.367   Prob(JB):                        0.545\n",
            "Kurtosis:                       2.237   Cond. No.                     2.23e+03\n",
            "==============================================================================\n",
            "\n",
            "Notes:\n",
            "[1] Standard Errors assume that the covariance matrix of the errors is correctly specified.\n",
            "[2] The condition number is large, 2.23e+03. This might indicate that there are\n",
            "strong multicollinearity or other numerical problems.\n"
          ]
        }
      ]
    },
    {
      "cell_type": "markdown",
      "source": [
        "OLS Regression Interpretation for the 1st Model.\n",
        "\n",
        "1. Predicted sales as intercept appears to be 509 when the price is $0. \n",
        "\n",
        "2. RSquare Value is 0.963 - stating 96.3% of the variation in the sales data.\n",
        "\n",
        "3. Coefficient of se_indicator, suggesting during special event sales can be expected to have an increase of 76 units.This positive relationship indicates that special events lead to higher sales.\n",
        "\n",
        "4. P-Value for se_indicator & price are 0. Therefore statistically significant independent variables for sales.\n",
        "\n",
        "All in, the model does indicates that special events lead to higher sales."
      ],
      "metadata": {
        "id": "JuKZk2gSGVme"
      }
    },
    {
      "cell_type": "code",
      "source": [
        "promo_price = 135 - 25 #$25 Off\n",
        "se_indicator_promo = 1\n",
        "se_indicator_promo_n = 0\n",
        "prediction = first_model.predict([1, promo_price, se_indicator_promo])\n",
        "prediction_n = first_model.predict([1,promo_price, se_indicator_promo_n])"
      ],
      "metadata": {
        "id": "IXxWsl96x5mv"
      },
      "execution_count": 107,
      "outputs": []
    },
    {
      "cell_type": "code",
      "source": [
        "print(\"sales during special event\", round(prediction[0]))\n",
        "print(\"sales during no special event\", round(prediction_n[0]))"
      ],
      "metadata": {
        "colab": {
          "base_uri": "https://localhost:8080/"
        },
        "id": "wgFfBwKP3Edg",
        "outputId": "c2110640-17b7-4536-852b-0c29e4ebf5f6"
      },
      "execution_count": 108,
      "outputs": [
        {
          "output_type": "stream",
          "name": "stdout",
          "text": [
            "sales during special event 219\n",
            "sales during no special event 143\n"
          ]
        }
      ]
    },
    {
      "cell_type": "markdown",
      "source": [
        "**From the above results we can says that:-**\n",
        "\n",
        "Predicted sales during special event is **219** considering promoprice as original price - $25 (ie. 135 - 25)\n",
        "\n",
        "whereas\n",
        "\n",
        "Predicted sales when there is no special event is **143**."
      ],
      "metadata": {
        "id": "QIDFz-dgH458"
      }
    },
    {
      "cell_type": "markdown",
      "source": [
        "###Model 2\n",
        "\n",
        "**discount (as a % discount off original price) and special event indicator as an independent variable & sales as target variable**\n",
        "\n",
        "\n",
        "\n",
        "• Calculate the predicted sales promo (P) when directly including price and specialevent indicator as before, but this time replace price with a % discount variable, and include discount as an independent variable into a regression model\n",
        "\n",
        "• Make sure to interpret your results, including the regression estimation"
      ],
      "metadata": {
        "id": "36Qq4ye-szbE"
      }
    },
    {
      "cell_type": "code",
      "source": [
        "#Creating new column discount variable with a%\n",
        "dfjeans['discount'] = ((135 - dfjeans['price']) /135) * 100\n",
        "X = sm.add_constant(dfjeans[['discount', 'se_indicator']] )\n",
        "#y = dfjeans['sales'] can be re used from model 1"
      ],
      "metadata": {
        "id": "oX8LuE-hstsq"
      },
      "execution_count": 109,
      "outputs": []
    },
    {
      "cell_type": "code",
      "source": [
        "dfjeans.info()"
      ],
      "metadata": {
        "colab": {
          "base_uri": "https://localhost:8080/"
        },
        "id": "LvUeWC7tEnTE",
        "outputId": "ba769e04-0a55-4433-910d-4f50d26779c8"
      },
      "execution_count": 110,
      "outputs": [
        {
          "output_type": "stream",
          "name": "stdout",
          "text": [
            "<class 'pandas.core.frame.DataFrame'>\n",
            "RangeIndex: 26 entries, 0 to 25\n",
            "Data columns (total 6 columns):\n",
            " #   Column         Non-Null Count  Dtype  \n",
            "---  ------         --------------  -----  \n",
            " 0   week           26 non-null     int64  \n",
            " 1   sales          26 non-null     int64  \n",
            " 2   price          26 non-null     float64\n",
            " 3   special_event  4 non-null      object \n",
            " 4   se_indicator   26 non-null     int64  \n",
            " 5   discount       26 non-null     float64\n",
            "dtypes: float64(2), int64(3), object(1)\n",
            "memory usage: 1.3+ KB\n"
          ]
        }
      ]
    },
    {
      "cell_type": "markdown",
      "source": [
        "Confirming from the above info method that, discount column has been created having original price as 135."
      ],
      "metadata": {
        "id": "bvTTuO6yErPw"
      }
    },
    {
      "cell_type": "code",
      "source": [
        "second_model = sm.OLS(y, X).fit()\n",
        "print(second_model.summary())\n",
        "#second_model.summary()\n",
        "#fitting and printing the summery of the second model"
      ],
      "metadata": {
        "colab": {
          "base_uri": "https://localhost:8080/"
        },
        "id": "GFeUZwu46AAB",
        "outputId": "b05c25ae-27f2-48d3-ffdb-1f015ca6f5aa"
      },
      "execution_count": 111,
      "outputs": [
        {
          "output_type": "stream",
          "name": "stdout",
          "text": [
            "                            OLS Regression Results                            \n",
            "==============================================================================\n",
            "Dep. Variable:                  sales   R-squared:                       0.963\n",
            "Model:                            OLS   Adj. R-squared:                  0.959\n",
            "Method:                 Least Squares   F-statistic:                     295.4\n",
            "Date:                Wed, 29 Mar 2023   Prob (F-statistic):           3.96e-17\n",
            "Time:                        16:30:01   Log-Likelihood:                -102.28\n",
            "No. Observations:                  26   AIC:                             210.6\n",
            "Df Residuals:                      23   BIC:                             214.3\n",
            "Df Model:                           2                                         \n",
            "Covariance Type:            nonrobust                                         \n",
            "================================================================================\n",
            "                   coef    std err          t      P>|t|      [0.025      0.975]\n",
            "--------------------------------------------------------------------------------\n",
            "const           59.6477      2.917     20.447      0.000      53.613      65.682\n",
            "discount         4.4938      0.444     10.123      0.000       3.575       5.412\n",
            "se_indicator    76.2267     10.781      7.071      0.000      53.925      98.528\n",
            "==============================================================================\n",
            "Omnibus:                        1.399   Durbin-Watson:                   1.189\n",
            "Prob(Omnibus):                  0.497   Jarque-Bera (JB):                1.214\n",
            "Skew:                           0.367   Prob(JB):                        0.545\n",
            "Kurtosis:                       2.237   Cond. No.                         41.5\n",
            "==============================================================================\n",
            "\n",
            "Notes:\n",
            "[1] Standard Errors assume that the covariance matrix of the errors is correctly specified.\n"
          ]
        }
      ]
    },
    {
      "cell_type": "markdown",
      "source": [
        "OLS Regression Interpretation for the** 2nd Model**.\n",
        "Here, discount percentage & se_indicator are used to predict the sales.\n",
        "\n",
        "1. R_square value appears to be same as **96.3 %**.\n",
        "\n",
        "2. From coefficients we can say that there is an increase of **4 units** when added **discount** & increase of **76** units during **special events**. \n",
        "The model is **statistically significant** with p-values less than 0.001.\n",
        "\n",
        "In summary, the model indicates that both discount percentage and special events are important factors in predicting sales.\n"
      ],
      "metadata": {
        "id": "GvBqSsHOJSCl"
      }
    },
    {
      "cell_type": "code",
      "source": [
        "# Make a prediction for the \"$25 Off\" promotion during a special event period\n",
        "promo_discount = (25 / 135) * 100\n",
        "prediction = second_model.predict([1, promo_discount, se_indicator_promo])\n",
        "prediction_n = first_model.predict([1,promo_price, se_indicator_promo_n])"
      ],
      "metadata": {
        "id": "dQUFdO9X6Ci4"
      },
      "execution_count": 112,
      "outputs": []
    },
    {
      "cell_type": "code",
      "source": [
        "print(\"sales during special event\", round(prediction[0]))\n",
        "print(\"sales during no special event\", round(prediction_n[0]))"
      ],
      "metadata": {
        "colab": {
          "base_uri": "https://localhost:8080/"
        },
        "id": "tdySY-Aw6PKa",
        "outputId": "292eb583-ec9c-4a1d-d56c-0abdf5f3393d"
      },
      "execution_count": 113,
      "outputs": [
        {
          "output_type": "stream",
          "name": "stdout",
          "text": [
            "sales during special event 219\n",
            "sales during no special event 143\n"
          ]
        }
      ]
    },
    {
      "cell_type": "markdown",
      "source": [
        "**Printed values are as**\n",
        "\n",
        "Predicted sales during special event is **219** considering promoprice as original price - $25 (ie. 135 - 25)\n",
        "\n",
        "whereas\n",
        "\n",
        "Predicted sales when there is no special event is **143**."
      ],
      "metadata": {
        "id": "6QVVXbAWLF6S"
      }
    }
  ]
}