{
  "nbformat": 4,
  "nbformat_minor": 0,
  "metadata": {
    "colab": {
      "provenance": [],
      "toc_visible": true,
      "collapsed_sections": [
        "eciv7zNC8pFz",
        "PfiJAHJeh9kK",
        "BfM0AfHr5Mxa"
      ]
    },
    "kernelspec": {
      "name": "python3",
      "display_name": "Python 3"
    },
    "language_info": {
      "name": "python"
    }
  },
  "cells": [
    {
      "cell_type": "markdown",
      "source": [
        "# BA 875 Operations and Supply Chain Analytics\n",
        "   Homework Assignment 5\n",
        "\n"
      ],
      "metadata": {
        "id": "I2RyZWNG6wbG"
      }
    },
    {
      "cell_type": "code",
      "execution_count": null,
      "metadata": {
        "id": "ZMYIb2u_6tfq"
      },
      "outputs": [],
      "source": [
        "import pandas as pd\n",
        "import numpy as np"
      ]
    },
    {
      "cell_type": "code",
      "source": [
        "demand_data = 'https://raw.githubusercontent.com/nahariaprateek/SupplyChain-Operations-Data-Analytics/main/datasets_course/demand_data.csv'\n",
        "refurb_data = 'https://raw.githubusercontent.com/nahariaprateek/SupplyChain-Operations-Data-Analytics/main/datasets_course/refurb_data.csv'\n",
        "df_demand = pd.read_csv(demand_data)\n",
        "df_refurb = pd.read_csv(refurb_data)"
      ],
      "metadata": {
        "id": "feK5ugwc7kH8"
      },
      "execution_count": null,
      "outputs": []
    },
    {
      "cell_type": "markdown",
      "source": [
        "## Part I: Pricing Analysis \n",
        "\n",
        "\n",
        "\n",
        "*   Optimal pricing for weekend vs. weekday\n",
        "*   Dataset: demand_data\n",
        "\n",
        "\n",
        "\n"
      ],
      "metadata": {
        "id": "eciv7zNC8pFz"
      }
    },
    {
      "cell_type": "code",
      "source": [
        "demand = df_demand.copy()\n",
        "demand.head()"
      ],
      "metadata": {
        "colab": {
          "base_uri": "https://localhost:8080/",
          "height": 206
        },
        "id": "oDHQJehr8ZvW",
        "outputId": "99ebc2f7-2e1c-49f7-bb03-cc7dae2106ab"
      },
      "execution_count": null,
      "outputs": [
        {
          "output_type": "execute_result",
          "data": {
            "text/plain": [
              "   price  demand  weekend\n",
              "0    4.0       7        1\n",
              "1    3.5       7        0\n",
              "2    5.0       5        0\n",
              "3    6.0       4        0\n",
              "4    6.5       4        0"
            ],
            "text/html": [
              "\n",
              "  <div id=\"df-69c3cd25-ed09-41d1-9520-4e974c2fb173\">\n",
              "    <div class=\"colab-df-container\">\n",
              "      <div>\n",
              "<style scoped>\n",
              "    .dataframe tbody tr th:only-of-type {\n",
              "        vertical-align: middle;\n",
              "    }\n",
              "\n",
              "    .dataframe tbody tr th {\n",
              "        vertical-align: top;\n",
              "    }\n",
              "\n",
              "    .dataframe thead th {\n",
              "        text-align: right;\n",
              "    }\n",
              "</style>\n",
              "<table border=\"1\" class=\"dataframe\">\n",
              "  <thead>\n",
              "    <tr style=\"text-align: right;\">\n",
              "      <th></th>\n",
              "      <th>price</th>\n",
              "      <th>demand</th>\n",
              "      <th>weekend</th>\n",
              "    </tr>\n",
              "  </thead>\n",
              "  <tbody>\n",
              "    <tr>\n",
              "      <th>0</th>\n",
              "      <td>4.0</td>\n",
              "      <td>7</td>\n",
              "      <td>1</td>\n",
              "    </tr>\n",
              "    <tr>\n",
              "      <th>1</th>\n",
              "      <td>3.5</td>\n",
              "      <td>7</td>\n",
              "      <td>0</td>\n",
              "    </tr>\n",
              "    <tr>\n",
              "      <th>2</th>\n",
              "      <td>5.0</td>\n",
              "      <td>5</td>\n",
              "      <td>0</td>\n",
              "    </tr>\n",
              "    <tr>\n",
              "      <th>3</th>\n",
              "      <td>6.0</td>\n",
              "      <td>4</td>\n",
              "      <td>0</td>\n",
              "    </tr>\n",
              "    <tr>\n",
              "      <th>4</th>\n",
              "      <td>6.5</td>\n",
              "      <td>4</td>\n",
              "      <td>0</td>\n",
              "    </tr>\n",
              "  </tbody>\n",
              "</table>\n",
              "</div>\n",
              "      <button class=\"colab-df-convert\" onclick=\"convertToInteractive('df-69c3cd25-ed09-41d1-9520-4e974c2fb173')\"\n",
              "              title=\"Convert this dataframe to an interactive table.\"\n",
              "              style=\"display:none;\">\n",
              "        \n",
              "  <svg xmlns=\"http://www.w3.org/2000/svg\" height=\"24px\"viewBox=\"0 0 24 24\"\n",
              "       width=\"24px\">\n",
              "    <path d=\"M0 0h24v24H0V0z\" fill=\"none\"/>\n",
              "    <path d=\"M18.56 5.44l.94 2.06.94-2.06 2.06-.94-2.06-.94-.94-2.06-.94 2.06-2.06.94zm-11 1L8.5 8.5l.94-2.06 2.06-.94-2.06-.94L8.5 2.5l-.94 2.06-2.06.94zm10 10l.94 2.06.94-2.06 2.06-.94-2.06-.94-.94-2.06-.94 2.06-2.06.94z\"/><path d=\"M17.41 7.96l-1.37-1.37c-.4-.4-.92-.59-1.43-.59-.52 0-1.04.2-1.43.59L10.3 9.45l-7.72 7.72c-.78.78-.78 2.05 0 2.83L4 21.41c.39.39.9.59 1.41.59.51 0 1.02-.2 1.41-.59l7.78-7.78 2.81-2.81c.8-.78.8-2.07 0-2.86zM5.41 20L4 18.59l7.72-7.72 1.47 1.35L5.41 20z\"/>\n",
              "  </svg>\n",
              "      </button>\n",
              "      \n",
              "  <style>\n",
              "    .colab-df-container {\n",
              "      display:flex;\n",
              "      flex-wrap:wrap;\n",
              "      gap: 12px;\n",
              "    }\n",
              "\n",
              "    .colab-df-convert {\n",
              "      background-color: #E8F0FE;\n",
              "      border: none;\n",
              "      border-radius: 50%;\n",
              "      cursor: pointer;\n",
              "      display: none;\n",
              "      fill: #1967D2;\n",
              "      height: 32px;\n",
              "      padding: 0 0 0 0;\n",
              "      width: 32px;\n",
              "    }\n",
              "\n",
              "    .colab-df-convert:hover {\n",
              "      background-color: #E2EBFA;\n",
              "      box-shadow: 0px 1px 2px rgba(60, 64, 67, 0.3), 0px 1px 3px 1px rgba(60, 64, 67, 0.15);\n",
              "      fill: #174EA6;\n",
              "    }\n",
              "\n",
              "    [theme=dark] .colab-df-convert {\n",
              "      background-color: #3B4455;\n",
              "      fill: #D2E3FC;\n",
              "    }\n",
              "\n",
              "    [theme=dark] .colab-df-convert:hover {\n",
              "      background-color: #434B5C;\n",
              "      box-shadow: 0px 1px 3px 1px rgba(0, 0, 0, 0.15);\n",
              "      filter: drop-shadow(0px 1px 2px rgba(0, 0, 0, 0.3));\n",
              "      fill: #FFFFFF;\n",
              "    }\n",
              "  </style>\n",
              "\n",
              "      <script>\n",
              "        const buttonEl =\n",
              "          document.querySelector('#df-69c3cd25-ed09-41d1-9520-4e974c2fb173 button.colab-df-convert');\n",
              "        buttonEl.style.display =\n",
              "          google.colab.kernel.accessAllowed ? 'block' : 'none';\n",
              "\n",
              "        async function convertToInteractive(key) {\n",
              "          const element = document.querySelector('#df-69c3cd25-ed09-41d1-9520-4e974c2fb173');\n",
              "          const dataTable =\n",
              "            await google.colab.kernel.invokeFunction('convertToInteractive',\n",
              "                                                     [key], {});\n",
              "          if (!dataTable) return;\n",
              "\n",
              "          const docLinkHtml = 'Like what you see? Visit the ' +\n",
              "            '<a target=\"_blank\" href=https://colab.research.google.com/notebooks/data_table.ipynb>data table notebook</a>'\n",
              "            + ' to learn more about interactive tables.';\n",
              "          element.innerHTML = '';\n",
              "          dataTable['output_type'] = 'display_data';\n",
              "          await google.colab.output.renderOutput(dataTable, element);\n",
              "          const docLink = document.createElement('div');\n",
              "          docLink.innerHTML = docLinkHtml;\n",
              "          element.appendChild(docLink);\n",
              "        }\n",
              "      </script>\n",
              "    </div>\n",
              "  </div>\n",
              "  "
            ]
          },
          "metadata": {},
          "execution_count": 18
        }
      ]
    },
    {
      "cell_type": "markdown",
      "source": [
        "• Estimate the demand d(p) by regressing on price and weekend. Interpret the regressionresults. Provide an interpretation in your own words!\n",
        "\n",
        "• Calculate the optimal weekday price p* (when w = 0) and its corresponding profito Clearly state your findings, do not simply show output of running codeo Determine whether the optimal weekday price is within the credible range andprovide response in your own words!\n",
        "\n",
        "• Calculate the optimal weekend price p* (when w = 1) and its corresponding profito Clearly state your findings, do not simply show output of running codeo Determine whether the optimal weekend price is within the credible range andprovide response in your own words"
      ],
      "metadata": {
        "id": "e0WWbI_f9E2f"
      }
    },
    {
      "cell_type": "code",
      "source": [
        "import pandas as pd\n",
        "import statsmodels.formula.api as smf\n",
        "from scipy.optimize import minimize_scalar\n",
        "\n",
        "ols_model = smf.ols(formula='demand ~ price + weekend', data=df_demand).fit()\n",
        "print(ols_model.summary())\n",
        "ols_model.params"
      ],
      "metadata": {
        "colab": {
          "base_uri": "https://localhost:8080/"
        },
        "id": "xaVz3BkbDBR3",
        "outputId": "25478872-4f43-4e04-ad15-0f53e8eba612"
      },
      "execution_count": null,
      "outputs": [
        {
          "output_type": "stream",
          "name": "stdout",
          "text": [
            "                            OLS Regression Results                            \n",
            "==============================================================================\n",
            "Dep. Variable:                 demand   R-squared:                       0.881\n",
            "Model:                            OLS   Adj. R-squared:                  0.873\n",
            "Method:                 Least Squares   F-statistic:                     107.1\n",
            "Date:                Mon, 01 May 2023   Prob (F-statistic):           4.07e-14\n",
            "Time:                        15:16:32   Log-Likelihood:                -27.363\n",
            "No. Observations:                  32   AIC:                             60.73\n",
            "Df Residuals:                      29   BIC:                             65.12\n",
            "Df Model:                           2                                         \n",
            "Covariance Type:            nonrobust                                         \n",
            "==============================================================================\n",
            "                 coef    std err          t      P>|t|      [0.025      0.975]\n",
            "------------------------------------------------------------------------------\n",
            "Intercept      9.9293      0.312     31.808      0.000       9.291      10.568\n",
            "price         -0.8772      0.063    -14.033      0.000      -1.005      -0.749\n",
            "weekend        0.4198      0.238      1.762      0.089      -0.068       0.907\n",
            "==============================================================================\n",
            "Omnibus:                        4.720   Durbin-Watson:                   2.107\n",
            "Prob(Omnibus):                  0.094   Jarque-Bera (JB):                3.505\n",
            "Skew:                           0.797   Prob(JB):                        0.173\n",
            "Kurtosis:                       3.297   Cond. No.                         15.4\n",
            "==============================================================================\n",
            "\n",
            "Notes:\n",
            "[1] Standard Errors assume that the covariance matrix of the errors is correctly specified.\n"
          ]
        },
        {
          "output_type": "execute_result",
          "data": {
            "text/plain": [
              "Intercept    9.929305\n",
              "price       -0.877246\n",
              "weekend      0.419832\n",
              "dtype: float64"
            ]
          },
          "metadata": {},
          "execution_count": 19
        }
      ]
    },
    {
      "cell_type": "markdown",
      "source": [
        "### Weekday"
      ],
      "metadata": {
        "id": "PfiJAHJeh9kK"
      }
    },
    {
      "cell_type": "code",
      "source": [
        "# Define the profit function for weekdays\n",
        "profit = lambda w: -(ols_model.params['Intercept'] + ols_model.params['price'] * w + ols_model.params['weekend'] * 0) * (w - 4)\n",
        "# Optimize the profit function for weekdays (w = 0)\n",
        "weekday_opt = minimize_scalar(profit, method='brent')\n",
        "print(weekday_opt.x)\n",
        "print(weekday_opt)"
      ],
      "metadata": {
        "id": "oBeVN7DTDlpG",
        "colab": {
          "base_uri": "https://localhost:8080/"
        },
        "outputId": "bf2ee0fa-22ec-4a28-9915-f87ef3ab3585"
      },
      "execution_count": null,
      "outputs": [
        {
          "output_type": "stream",
          "name": "stdout",
          "text": [
            "7.659360769101043\n",
            " message: \n",
            "          Optimization terminated successfully;\n",
            "          The returned value satisfies the termination criteria\n",
            "          (using xtol = 1.48e-08 )\n",
            " success: True\n",
            "     fun: -11.747134712211036\n",
            "       x: 7.659360769101043\n",
            "     nit: 4\n",
            "    nfev: 9\n"
          ]
        }
      ]
    },
    {
      "cell_type": "code",
      "source": [
        "weekday_opt = minimize_scalar(profit, method='brent').x\n",
        "print(\"Optimal maximum Profit is: $\", round(-profit(weekday_opt), 2))"
      ],
      "metadata": {
        "colab": {
          "base_uri": "https://localhost:8080/"
        },
        "id": "uKb10ZgYl0T7",
        "outputId": "8e263d91-ca31-4342-e33a-760facccc26a"
      },
      "execution_count": null,
      "outputs": [
        {
          "output_type": "stream",
          "name": "stdout",
          "text": [
            "Optimal maximum Profit is: $ 11.75\n"
          ]
        }
      ]
    },
    {
      "cell_type": "markdown",
      "source": [
        "The Optimal Price is $7.65"
      ],
      "metadata": {
        "id": "2YbrFVNXhEuh"
      }
    },
    {
      "cell_type": "code",
      "source": [
        "# Checking if the optimal prices are within the credible range\n",
        "min_price = df_demand.price.min()\n",
        "max_price = df_demand.price.max()\n",
        "weekday_price_credible = min_price <= weekday_opt <= max_price\n",
        "print(\"min_price\", min_price)\n",
        "print(\"max_price\", max_price)\n",
        "print(\"Optimal weekday price:\", weekday_opt)\n",
        "print(\"Optimal weekday profit:\", -weekday_opt)\n",
        "print(\"Weekday price within the credible range?\", weekday_price_credible)"
      ],
      "metadata": {
        "colab": {
          "base_uri": "https://localhost:8080/"
        },
        "id": "sLWI9JEfhk_8",
        "outputId": "f21c00a7-ca04-44c8-9641-dc3d83781581"
      },
      "execution_count": null,
      "outputs": [
        {
          "output_type": "stream",
          "name": "stdout",
          "text": [
            "min_price 1.5\n",
            "max_price 7.5\n",
            "Optimal weekday price: 7.659360769101043\n",
            "Optimal weekday profit: -7.659360769101043\n",
            "Weekday price within the credible range? False\n"
          ]
        }
      ]
    },
    {
      "cell_type": "markdown",
      "source": [
        "\n",
        "Give that the min_price is 1.5 & max_price is 7.5.\n",
        "\n",
        "We can see that - Optimal Weekday price is 7.65 which is greater than 7.5. Hence not in the credible range. \n",
        "\n"
      ],
      "metadata": {
        "id": "yyvTMk7Ynssx"
      }
    },
    {
      "cell_type": "markdown",
      "source": [
        "### Weekend"
      ],
      "metadata": {
        "id": "NhJ-MOWcoXmG"
      }
    },
    {
      "cell_type": "code",
      "source": [
        "profit = lambda w: -(ols_model.params['Intercept'] + ols_model.params['price'] * w + ols_model.params['weekend'] * 1) * (w - 4)"
      ],
      "metadata": {
        "id": "IwFDtXrPoZQT"
      },
      "execution_count": null,
      "outputs": []
    },
    {
      "cell_type": "code",
      "source": [
        "# Optimize the profit function for weekends (w = 1)\n",
        "weekend_opt = minimize_scalar(profit, method='brent')\n",
        "print(weekend_opt.x)\n",
        "print(weekend_opt)"
      ],
      "metadata": {
        "colab": {
          "base_uri": "https://localhost:8080/"
        },
        "id": "0L-09G0seoY5",
        "outputId": "ca4cf396-212f-4bbf-9b34-da7b29ef0291"
      },
      "execution_count": null,
      "outputs": [
        {
          "output_type": "stream",
          "name": "stdout",
          "text": [
            "7.898650699949416\n",
            " message: \n",
            "          Optimization terminated successfully;\n",
            "          The returned value satisfies the termination criteria\n",
            "          (using xtol = 1.48e-08 )\n",
            " success: True\n",
            "     fun: -13.3336836194211\n",
            "       x: 7.898650699949416\n",
            "     nit: 4\n",
            "    nfev: 9\n"
          ]
        }
      ]
    },
    {
      "cell_type": "code",
      "source": [
        "weekend_opt = minimize_scalar(profit, method='brent').x\n",
        "print(\"Optimal maximum Profit is: $\", round(-profit(weekend_opt), 2))"
      ],
      "metadata": {
        "colab": {
          "base_uri": "https://localhost:8080/"
        },
        "id": "GoAaqnxTo_X6",
        "outputId": "59618e88-f8b2-4017-9529-87f3c4333ba0"
      },
      "execution_count": null,
      "outputs": [
        {
          "output_type": "stream",
          "name": "stdout",
          "text": [
            "Optimal maximum Profit is: $ 13.33\n"
          ]
        }
      ]
    },
    {
      "cell_type": "code",
      "source": [
        "# Checking if the optimal prices are within the credible range\n",
        "min_price = df_demand.price.min()\n",
        "max_price = df_demand.price.max()\n",
        "weekend_price_credible = min_price <= weekend_opt <= max_price\n",
        "print(\"min_price\", min_price)\n",
        "print(\"max_price\", max_price)\n",
        "print(\"Optimal weekend price:\", weekend_opt)\n",
        "print(\"Optimal weekend profit:\", -weekend_opt)\n",
        "print(\"Weekend price within the credible range?\", weekend_price_credible)"
      ],
      "metadata": {
        "colab": {
          "base_uri": "https://localhost:8080/"
        },
        "id": "4VhU5RtLpJca",
        "outputId": "568d06a5-0b29-4514-be72-9bbf10b1e95e"
      },
      "execution_count": null,
      "outputs": [
        {
          "output_type": "stream",
          "name": "stdout",
          "text": [
            "min_price 1.5\n",
            "max_price 7.5\n",
            "Optimal weekend price: 7.898650699949416\n",
            "Optimal weekend profit: -7.898650699949416\n",
            "Weekend price within the credible range? False\n"
          ]
        }
      ]
    },
    {
      "cell_type": "markdown",
      "source": [
        "Here also the optimal weekend price value is $ 7.89 and is out of credible range as defined in the above result. It is possible that model assumptions are incorrect."
      ],
      "metadata": {
        "id": "IcxQ6hUjFxaJ"
      }
    },
    {
      "cell_type": "markdown",
      "source": [
        "##Part II: Pricing Analysis\n",
        "New vs Refurbished Product\n",
        "\n",
        "Dataset: refurb_data"
      ],
      "metadata": {
        "id": "1H-1GDCJ_FGH"
      }
    },
    {
      "cell_type": "code",
      "source": [
        "df_refurb.head()"
      ],
      "metadata": {
        "colab": {
          "base_uri": "https://localhost:8080/",
          "height": 206
        },
        "id": "gDByJiwF_NBG",
        "outputId": "38bf301e-a658-4bac-85c5-2a2eec0b0fce"
      },
      "execution_count": null,
      "outputs": [
        {
          "output_type": "execute_result",
          "data": {
            "text/plain": [
              "        dates  new_price  refurb_price  choice\n",
              "0  2014-06-01        400         264.0  refurb\n",
              "1  2014-06-01        400         264.0  refurb\n",
              "2  2014-06-01        400         264.0  refurb\n",
              "3  2014-06-01        400         264.0     new\n",
              "4  2014-06-01        400         264.0     new"
            ],
            "text/html": [
              "\n",
              "  <div id=\"df-81ccf6ce-4fa0-417f-9fea-3a1cf934a90c\">\n",
              "    <div class=\"colab-df-container\">\n",
              "      <div>\n",
              "<style scoped>\n",
              "    .dataframe tbody tr th:only-of-type {\n",
              "        vertical-align: middle;\n",
              "    }\n",
              "\n",
              "    .dataframe tbody tr th {\n",
              "        vertical-align: top;\n",
              "    }\n",
              "\n",
              "    .dataframe thead th {\n",
              "        text-align: right;\n",
              "    }\n",
              "</style>\n",
              "<table border=\"1\" class=\"dataframe\">\n",
              "  <thead>\n",
              "    <tr style=\"text-align: right;\">\n",
              "      <th></th>\n",
              "      <th>dates</th>\n",
              "      <th>new_price</th>\n",
              "      <th>refurb_price</th>\n",
              "      <th>choice</th>\n",
              "    </tr>\n",
              "  </thead>\n",
              "  <tbody>\n",
              "    <tr>\n",
              "      <th>0</th>\n",
              "      <td>2014-06-01</td>\n",
              "      <td>400</td>\n",
              "      <td>264.0</td>\n",
              "      <td>refurb</td>\n",
              "    </tr>\n",
              "    <tr>\n",
              "      <th>1</th>\n",
              "      <td>2014-06-01</td>\n",
              "      <td>400</td>\n",
              "      <td>264.0</td>\n",
              "      <td>refurb</td>\n",
              "    </tr>\n",
              "    <tr>\n",
              "      <th>2</th>\n",
              "      <td>2014-06-01</td>\n",
              "      <td>400</td>\n",
              "      <td>264.0</td>\n",
              "      <td>refurb</td>\n",
              "    </tr>\n",
              "    <tr>\n",
              "      <th>3</th>\n",
              "      <td>2014-06-01</td>\n",
              "      <td>400</td>\n",
              "      <td>264.0</td>\n",
              "      <td>new</td>\n",
              "    </tr>\n",
              "    <tr>\n",
              "      <th>4</th>\n",
              "      <td>2014-06-01</td>\n",
              "      <td>400</td>\n",
              "      <td>264.0</td>\n",
              "      <td>new</td>\n",
              "    </tr>\n",
              "  </tbody>\n",
              "</table>\n",
              "</div>\n",
              "      <button class=\"colab-df-convert\" onclick=\"convertToInteractive('df-81ccf6ce-4fa0-417f-9fea-3a1cf934a90c')\"\n",
              "              title=\"Convert this dataframe to an interactive table.\"\n",
              "              style=\"display:none;\">\n",
              "        \n",
              "  <svg xmlns=\"http://www.w3.org/2000/svg\" height=\"24px\"viewBox=\"0 0 24 24\"\n",
              "       width=\"24px\">\n",
              "    <path d=\"M0 0h24v24H0V0z\" fill=\"none\"/>\n",
              "    <path d=\"M18.56 5.44l.94 2.06.94-2.06 2.06-.94-2.06-.94-.94-2.06-.94 2.06-2.06.94zm-11 1L8.5 8.5l.94-2.06 2.06-.94-2.06-.94L8.5 2.5l-.94 2.06-2.06.94zm10 10l.94 2.06.94-2.06 2.06-.94-2.06-.94-.94-2.06-.94 2.06-2.06.94z\"/><path d=\"M17.41 7.96l-1.37-1.37c-.4-.4-.92-.59-1.43-.59-.52 0-1.04.2-1.43.59L10.3 9.45l-7.72 7.72c-.78.78-.78 2.05 0 2.83L4 21.41c.39.39.9.59 1.41.59.51 0 1.02-.2 1.41-.59l7.78-7.78 2.81-2.81c.8-.78.8-2.07 0-2.86zM5.41 20L4 18.59l7.72-7.72 1.47 1.35L5.41 20z\"/>\n",
              "  </svg>\n",
              "      </button>\n",
              "      \n",
              "  <style>\n",
              "    .colab-df-container {\n",
              "      display:flex;\n",
              "      flex-wrap:wrap;\n",
              "      gap: 12px;\n",
              "    }\n",
              "\n",
              "    .colab-df-convert {\n",
              "      background-color: #E8F0FE;\n",
              "      border: none;\n",
              "      border-radius: 50%;\n",
              "      cursor: pointer;\n",
              "      display: none;\n",
              "      fill: #1967D2;\n",
              "      height: 32px;\n",
              "      padding: 0 0 0 0;\n",
              "      width: 32px;\n",
              "    }\n",
              "\n",
              "    .colab-df-convert:hover {\n",
              "      background-color: #E2EBFA;\n",
              "      box-shadow: 0px 1px 2px rgba(60, 64, 67, 0.3), 0px 1px 3px 1px rgba(60, 64, 67, 0.15);\n",
              "      fill: #174EA6;\n",
              "    }\n",
              "\n",
              "    [theme=dark] .colab-df-convert {\n",
              "      background-color: #3B4455;\n",
              "      fill: #D2E3FC;\n",
              "    }\n",
              "\n",
              "    [theme=dark] .colab-df-convert:hover {\n",
              "      background-color: #434B5C;\n",
              "      box-shadow: 0px 1px 3px 1px rgba(0, 0, 0, 0.15);\n",
              "      filter: drop-shadow(0px 1px 2px rgba(0, 0, 0, 0.3));\n",
              "      fill: #FFFFFF;\n",
              "    }\n",
              "  </style>\n",
              "\n",
              "      <script>\n",
              "        const buttonEl =\n",
              "          document.querySelector('#df-81ccf6ce-4fa0-417f-9fea-3a1cf934a90c button.colab-df-convert');\n",
              "        buttonEl.style.display =\n",
              "          google.colab.kernel.accessAllowed ? 'block' : 'none';\n",
              "\n",
              "        async function convertToInteractive(key) {\n",
              "          const element = document.querySelector('#df-81ccf6ce-4fa0-417f-9fea-3a1cf934a90c');\n",
              "          const dataTable =\n",
              "            await google.colab.kernel.invokeFunction('convertToInteractive',\n",
              "                                                     [key], {});\n",
              "          if (!dataTable) return;\n",
              "\n",
              "          const docLinkHtml = 'Like what you see? Visit the ' +\n",
              "            '<a target=\"_blank\" href=https://colab.research.google.com/notebooks/data_table.ipynb>data table notebook</a>'\n",
              "            + ' to learn more about interactive tables.';\n",
              "          element.innerHTML = '';\n",
              "          dataTable['output_type'] = 'display_data';\n",
              "          await google.colab.output.renderOutput(dataTable, element);\n",
              "          const docLink = document.createElement('div');\n",
              "          docLink.innerHTML = docLinkHtml;\n",
              "          element.appendChild(docLink);\n",
              "        }\n",
              "      </script>\n",
              "    </div>\n",
              "  </div>\n",
              "  "
            ]
          },
          "metadata": {},
          "execution_count": 99
        }
      ]
    },
    {
      "cell_type": "markdown",
      "source": [
        "\n",
        "\n",
        "*   Calculate the optimal refurbished price and profit when the new price = 300\n",
        "\n",
        "*   Calculate the optimal refurbished price and profit when the new price = 350\n",
        "\n",
        "*    Calculate the optimal refurbished price and profit when the new price = 400\n",
        "*    Comment on the differences in the optimal refurbished price when offering the three different new prices. Next, comment on the differences in the optimal profit whenoffering the three different new prices.\n"
      ],
      "metadata": {
        "id": "l9gVDdQP_Q-F"
      }
    },
    {
      "cell_type": "code",
      "source": [
        "df_refurb['dates'] = pd.to_datetime(df_refurb['dates'])\n",
        "df_refurb['new_price'] = df_refurb['new_price'].astype(\"float\")\n",
        "df_refurb['refurb_price'] = df_refurb['refurb_price'].astype(\"float\")\n",
        "df_refurb.info()\n",
        "df_refurb.head(10)"
      ],
      "metadata": {
        "colab": {
          "base_uri": "https://localhost:8080/",
          "height": 554
        },
        "id": "3PpLnCLC_Qof",
        "outputId": "117cf31c-0973-4d87-9825-c6741876c30f"
      },
      "execution_count": null,
      "outputs": [
        {
          "output_type": "stream",
          "name": "stdout",
          "text": [
            "<class 'pandas.core.frame.DataFrame'>\n",
            "RangeIndex: 500 entries, 0 to 499\n",
            "Data columns (total 4 columns):\n",
            " #   Column        Non-Null Count  Dtype         \n",
            "---  ------        --------------  -----         \n",
            " 0   dates         500 non-null    datetime64[ns]\n",
            " 1   new_price     500 non-null    float64       \n",
            " 2   refurb_price  500 non-null    float64       \n",
            " 3   choice        500 non-null    object        \n",
            "dtypes: datetime64[ns](1), float64(2), object(1)\n",
            "memory usage: 15.8+ KB\n"
          ]
        },
        {
          "output_type": "execute_result",
          "data": {
            "text/plain": [
              "       dates  new_price  refurb_price  choice\n",
              "0 2014-06-01      400.0         264.0  refurb\n",
              "1 2014-06-01      400.0         264.0  refurb\n",
              "2 2014-06-01      400.0         264.0  refurb\n",
              "3 2014-06-01      400.0         264.0     new\n",
              "4 2014-06-01      400.0         264.0     new\n",
              "5 2014-06-01      400.0         264.0  refurb\n",
              "6 2014-06-01      400.0         264.0  refurb\n",
              "7 2014-06-01      400.0         264.0     new\n",
              "8 2014-06-01      400.0         264.0     new\n",
              "9 2014-06-01      400.0         264.0  refurb"
            ],
            "text/html": [
              "\n",
              "  <div id=\"df-052ca905-f541-4817-bab9-35d26be7526d\">\n",
              "    <div class=\"colab-df-container\">\n",
              "      <div>\n",
              "<style scoped>\n",
              "    .dataframe tbody tr th:only-of-type {\n",
              "        vertical-align: middle;\n",
              "    }\n",
              "\n",
              "    .dataframe tbody tr th {\n",
              "        vertical-align: top;\n",
              "    }\n",
              "\n",
              "    .dataframe thead th {\n",
              "        text-align: right;\n",
              "    }\n",
              "</style>\n",
              "<table border=\"1\" class=\"dataframe\">\n",
              "  <thead>\n",
              "    <tr style=\"text-align: right;\">\n",
              "      <th></th>\n",
              "      <th>dates</th>\n",
              "      <th>new_price</th>\n",
              "      <th>refurb_price</th>\n",
              "      <th>choice</th>\n",
              "    </tr>\n",
              "  </thead>\n",
              "  <tbody>\n",
              "    <tr>\n",
              "      <th>0</th>\n",
              "      <td>2014-06-01</td>\n",
              "      <td>400.0</td>\n",
              "      <td>264.0</td>\n",
              "      <td>refurb</td>\n",
              "    </tr>\n",
              "    <tr>\n",
              "      <th>1</th>\n",
              "      <td>2014-06-01</td>\n",
              "      <td>400.0</td>\n",
              "      <td>264.0</td>\n",
              "      <td>refurb</td>\n",
              "    </tr>\n",
              "    <tr>\n",
              "      <th>2</th>\n",
              "      <td>2014-06-01</td>\n",
              "      <td>400.0</td>\n",
              "      <td>264.0</td>\n",
              "      <td>refurb</td>\n",
              "    </tr>\n",
              "    <tr>\n",
              "      <th>3</th>\n",
              "      <td>2014-06-01</td>\n",
              "      <td>400.0</td>\n",
              "      <td>264.0</td>\n",
              "      <td>new</td>\n",
              "    </tr>\n",
              "    <tr>\n",
              "      <th>4</th>\n",
              "      <td>2014-06-01</td>\n",
              "      <td>400.0</td>\n",
              "      <td>264.0</td>\n",
              "      <td>new</td>\n",
              "    </tr>\n",
              "    <tr>\n",
              "      <th>5</th>\n",
              "      <td>2014-06-01</td>\n",
              "      <td>400.0</td>\n",
              "      <td>264.0</td>\n",
              "      <td>refurb</td>\n",
              "    </tr>\n",
              "    <tr>\n",
              "      <th>6</th>\n",
              "      <td>2014-06-01</td>\n",
              "      <td>400.0</td>\n",
              "      <td>264.0</td>\n",
              "      <td>refurb</td>\n",
              "    </tr>\n",
              "    <tr>\n",
              "      <th>7</th>\n",
              "      <td>2014-06-01</td>\n",
              "      <td>400.0</td>\n",
              "      <td>264.0</td>\n",
              "      <td>new</td>\n",
              "    </tr>\n",
              "    <tr>\n",
              "      <th>8</th>\n",
              "      <td>2014-06-01</td>\n",
              "      <td>400.0</td>\n",
              "      <td>264.0</td>\n",
              "      <td>new</td>\n",
              "    </tr>\n",
              "    <tr>\n",
              "      <th>9</th>\n",
              "      <td>2014-06-01</td>\n",
              "      <td>400.0</td>\n",
              "      <td>264.0</td>\n",
              "      <td>refurb</td>\n",
              "    </tr>\n",
              "  </tbody>\n",
              "</table>\n",
              "</div>\n",
              "      <button class=\"colab-df-convert\" onclick=\"convertToInteractive('df-052ca905-f541-4817-bab9-35d26be7526d')\"\n",
              "              title=\"Convert this dataframe to an interactive table.\"\n",
              "              style=\"display:none;\">\n",
              "        \n",
              "  <svg xmlns=\"http://www.w3.org/2000/svg\" height=\"24px\"viewBox=\"0 0 24 24\"\n",
              "       width=\"24px\">\n",
              "    <path d=\"M0 0h24v24H0V0z\" fill=\"none\"/>\n",
              "    <path d=\"M18.56 5.44l.94 2.06.94-2.06 2.06-.94-2.06-.94-.94-2.06-.94 2.06-2.06.94zm-11 1L8.5 8.5l.94-2.06 2.06-.94-2.06-.94L8.5 2.5l-.94 2.06-2.06.94zm10 10l.94 2.06.94-2.06 2.06-.94-2.06-.94-.94-2.06-.94 2.06-2.06.94z\"/><path d=\"M17.41 7.96l-1.37-1.37c-.4-.4-.92-.59-1.43-.59-.52 0-1.04.2-1.43.59L10.3 9.45l-7.72 7.72c-.78.78-.78 2.05 0 2.83L4 21.41c.39.39.9.59 1.41.59.51 0 1.02-.2 1.41-.59l7.78-7.78 2.81-2.81c.8-.78.8-2.07 0-2.86zM5.41 20L4 18.59l7.72-7.72 1.47 1.35L5.41 20z\"/>\n",
              "  </svg>\n",
              "      </button>\n",
              "      \n",
              "  <style>\n",
              "    .colab-df-container {\n",
              "      display:flex;\n",
              "      flex-wrap:wrap;\n",
              "      gap: 12px;\n",
              "    }\n",
              "\n",
              "    .colab-df-convert {\n",
              "      background-color: #E8F0FE;\n",
              "      border: none;\n",
              "      border-radius: 50%;\n",
              "      cursor: pointer;\n",
              "      display: none;\n",
              "      fill: #1967D2;\n",
              "      height: 32px;\n",
              "      padding: 0 0 0 0;\n",
              "      width: 32px;\n",
              "    }\n",
              "\n",
              "    .colab-df-convert:hover {\n",
              "      background-color: #E2EBFA;\n",
              "      box-shadow: 0px 1px 2px rgba(60, 64, 67, 0.3), 0px 1px 3px 1px rgba(60, 64, 67, 0.15);\n",
              "      fill: #174EA6;\n",
              "    }\n",
              "\n",
              "    [theme=dark] .colab-df-convert {\n",
              "      background-color: #3B4455;\n",
              "      fill: #D2E3FC;\n",
              "    }\n",
              "\n",
              "    [theme=dark] .colab-df-convert:hover {\n",
              "      background-color: #434B5C;\n",
              "      box-shadow: 0px 1px 3px 1px rgba(0, 0, 0, 0.15);\n",
              "      filter: drop-shadow(0px 1px 2px rgba(0, 0, 0, 0.3));\n",
              "      fill: #FFFFFF;\n",
              "    }\n",
              "  </style>\n",
              "\n",
              "      <script>\n",
              "        const buttonEl =\n",
              "          document.querySelector('#df-052ca905-f541-4817-bab9-35d26be7526d button.colab-df-convert');\n",
              "        buttonEl.style.display =\n",
              "          google.colab.kernel.accessAllowed ? 'block' : 'none';\n",
              "\n",
              "        async function convertToInteractive(key) {\n",
              "          const element = document.querySelector('#df-052ca905-f541-4817-bab9-35d26be7526d');\n",
              "          const dataTable =\n",
              "            await google.colab.kernel.invokeFunction('convertToInteractive',\n",
              "                                                     [key], {});\n",
              "          if (!dataTable) return;\n",
              "\n",
              "          const docLinkHtml = 'Like what you see? Visit the ' +\n",
              "            '<a target=\"_blank\" href=https://colab.research.google.com/notebooks/data_table.ipynb>data table notebook</a>'\n",
              "            + ' to learn more about interactive tables.';\n",
              "          element.innerHTML = '';\n",
              "          dataTable['output_type'] = 'display_data';\n",
              "          await google.colab.output.renderOutput(dataTable, element);\n",
              "          const docLink = document.createElement('div');\n",
              "          docLink.innerHTML = docLinkHtml;\n",
              "          element.appendChild(docLink);\n",
              "        }\n",
              "      </script>\n",
              "    </div>\n",
              "  </div>\n",
              "  "
            ]
          },
          "metadata": {},
          "execution_count": 101
        }
      ]
    },
    {
      "cell_type": "code",
      "source": [
        "import matplotlib.pyplot as plt\n",
        "plt.figure(figsize=(16, 6))\n",
        "plt.style.use('ggplot')\n",
        "plt.plot(df_refurb.iloc[:,:-1].drop_duplicates().dates,\n",
        "         df_refurb.iloc[:,:-1].drop_duplicates().new_price, label='New Product Price')\n",
        "plt.plot(df_refurb.iloc[:,:-1].drop_duplicates().dates,\n",
        "         df_refurb.iloc[:,:-1].drop_duplicates().refurb_price, label='Refurbished Product Price')\n",
        "plt.legend(loc='best')\n",
        "plt.title('Comparison of New and Refurbished Product Prices over Time')\n",
        "plt.xlabel('Date')\n",
        "plt.ylabel('Price')\n",
        "plt.grid(True)\n",
        "plt.show()\n"
      ],
      "metadata": {
        "colab": {
          "base_uri": "https://localhost:8080/",
          "height": 569
        },
        "id": "V56p0I9vCPlE",
        "outputId": "72062fd2-5b9b-472d-8349-57d2c4cec7fa"
      },
      "execution_count": null,
      "outputs": [
        {
          "output_type": "display_data",
          "data": {
            "text/plain": [
              "<Figure size 1600x600 with 1 Axes>"
            ],
            "image/png": "[encoded data removed]"
          },
          "metadata": {}
        }
      ]
    },
    {
      "cell_type": "code",
      "source": [
        "import pandas as pd\n",
        "import numpy as np\n",
        "import statsmodels.formula.api as smf\n",
        "from scipy.optimize import minimize_scalar\n",
        "\n",
        "# Calculate daily demand for refurbished products\n",
        "df_refurb['refurb_demand'] = np.where(df_refurb['choice'] == 'refurb', 1, 0)\n",
        "daily_demand = df_refurb.groupby(['dates', 'new_price', 'refurb_price']).refurb_demand.sum().reset_index()\n",
        "\n",
        "demand_fit = smf.ols(formula='refurb_demand ~ refurb_price + new_price', data=daily_demand).fit()\n",
        "print(demand_fit.summary())"
      ],
      "metadata": {
        "colab": {
          "base_uri": "https://localhost:8080/"
        },
        "id": "T9NrjyDRGQCi",
        "outputId": "5d56ae0e-4be4-425c-a518-fa3040bdd937"
      },
      "execution_count": null,
      "outputs": [
        {
          "output_type": "stream",
          "name": "stdout",
          "text": [
            "                            OLS Regression Results                            \n",
            "==============================================================================\n",
            "Dep. Variable:          refurb_demand   R-squared:                       0.360\n",
            "Model:                            OLS   Adj. R-squared:                  0.313\n",
            "Method:                 Least Squares   F-statistic:                     7.601\n",
            "Date:                Mon, 01 May 2023   Prob (F-statistic):            0.00241\n",
            "Time:                        05:04:38   Log-Likelihood:                -60.852\n",
            "No. Observations:                  30   AIC:                             127.7\n",
            "Df Residuals:                      27   BIC:                             131.9\n",
            "Df Model:                           2                                         \n",
            "Covariance Type:            nonrobust                                         \n",
            "================================================================================\n",
            "                   coef    std err          t      P>|t|      [0.025      0.975]\n",
            "--------------------------------------------------------------------------------\n",
            "Intercept       -0.7019      3.224     -0.218      0.829      -7.316       5.912\n",
            "refurb_price    -0.0448      0.012     -3.815      0.001      -0.069      -0.021\n",
            "new_price        0.0506      0.014      3.527      0.002       0.021       0.080\n",
            "==============================================================================\n",
            "Omnibus:                        1.240   Durbin-Watson:                   2.250\n",
            "Prob(Omnibus):                  0.538   Jarque-Bera (JB):                1.026\n",
            "Skew:                          -0.433   Prob(JB):                        0.599\n",
            "Kurtosis:                       2.733   Cond. No.                     3.97e+03\n",
            "==============================================================================\n",
            "\n",
            "Notes:\n",
            "[1] Standard Errors assume that the covariance matrix of the errors is correctly specified.\n",
            "[2] The condition number is large, 3.97e+03. This might indicate that there are\n",
            "strong multicollinearity or other numerical problems.\n"
          ]
        }
      ]
    },
    {
      "cell_type": "code",
      "source": [
        "demand_fit.params"
      ],
      "metadata": {
        "colab": {
          "base_uri": "https://localhost:8080/"
        },
        "id": "HKoXOexJsuaf",
        "outputId": "e69df9e3-75e3-4a8f-c112-276c43805a8d"
      },
      "execution_count": null,
      "outputs": [
        {
          "output_type": "execute_result",
          "data": {
            "text/plain": [
              "Intercept      -0.701876\n",
              "refurb_price   -0.044835\n",
              "new_price       0.050579\n",
              "dtype: float64"
            ]
          },
          "metadata": {},
          "execution_count": 114
        }
      ]
    },
    {
      "cell_type": "code",
      "source": [
        "def profit(refurb_price, new_price, c=150):\n",
        "    demand = demand_fit.params[0] + demand_fit.params[1] * refurb_price + demand_fit.params[2] * new_price\n",
        "    return -1 * demand * (refurb_price - c)"
      ],
      "metadata": {
        "id": "Vgc4II-StmIy"
      },
      "execution_count": null,
      "outputs": []
    },
    {
      "cell_type": "code",
      "source": [
        "new_prices = [300, 350, 400]\n",
        "results = []\n",
        "\n",
        "for new_price in new_prices:\n",
        "    bounds = (150, new_price - 1)\n",
        "    optimal_refurb_price = minimize_scalar(profit, args=(new_price), bounds=bounds, method='bounded')\n",
        "    results.append((new_price, optimal_refurb_price.x, -1 * optimal_refurb_price.fun))"
      ],
      "metadata": {
        "id": "62ZSF629uJHD"
      },
      "execution_count": null,
      "outputs": []
    },
    {
      "cell_type": "code",
      "source": [
        "for r in results:\n",
        "    print(f\"Optimal refurbished price for new price {r[0]}: {r[1]:.2f}\")\n",
        "    print(f\"Optimal max profit for new price {r[0]}: {r[2]:.2f}\")\n",
        "    print()"
      ],
      "metadata": {
        "colab": {
          "base_uri": "https://localhost:8080/"
        },
        "id": "ZvpRVj6QuLyZ",
        "outputId": "13d28474-2541-4697-85a0-9dac2446c85c"
      },
      "execution_count": null,
      "outputs": [
        {
          "output_type": "stream",
          "name": "stdout",
          "text": [
            "Optimal refurbished price for new price 300: 236.39\n",
            "Optimal max profit for new price 300: 334.63\n",
            "\n",
            "Optimal refurbished price for new price 350: 264.60\n",
            "Optimal max profit for new price 350: 588.77\n",
            "\n",
            "Optimal refurbished price for new price 400: 292.80\n",
            "Optimal max profit for new price 400: 914.24\n",
            "\n"
          ]
        }
      ]
    },
    {
      "cell_type": "markdown",
      "source": [
        "Based on the above observations:\n",
        "\n",
        "For a new price of 300:\n",
        "Optimal refurbished price: 236.39\n",
        "Optimal max profit: 334.63\n",
        "\n",
        "For a new price of 350:\n",
        "Optimal refurbished price: 264.60\n",
        "Optimal max profit: 588.77\n",
        "\n",
        "For a new price of 400:\n",
        "Optimal refurbished price: 292.80\n",
        "Optimal max profit: 914.24\n",
        "\n",
        "\n",
        "1.   We can see that, as the new price increases optimal refurbished price also increases. \n",
        "\n",
        "2.   Suggesting us that consumers are more likely to buy refurbished product having higher price.\n",
        "\n",
        "From the sellers point of view when, there is increase in new price - they can also increase the price of refurbished product."
      ],
      "metadata": {
        "id": "1TQvyN2fuvNi"
      }
    },
    {
      "cell_type": "markdown",
      "source": [
        "## Part III: Pricing Analysis\n",
        "\n",
        "Question: Two-Segment Pricing\n",
        "\n",
        "Dataset: [none needed]\n",
        "\n",
        "Think back to the exercise (and corresponding slides) on \"Segmentation\", where we wereprovided with a Linear Price-response Curve d(p) = 10000-800p. There is a uniform WTPdistribution with 10,000 consumers equally distributed between 0 and 12.5."
      ],
      "metadata": {
        "id": "x5nT4VYDNPlF"
      }
    },
    {
      "cell_type": "markdown",
      "source": [
        "### No Segmentation"
      ],
      "metadata": {
        "id": "sTRPLUEF0Wu9"
      }
    },
    {
      "cell_type": "code",
      "source": [
        "from scipy.optimize import minimize_scalar\n",
        "cost = 5\n",
        "prof = lambda p: -1 * (p - cost) * (10000 - 800 * p)\n",
        "# Optimal price for no segmentation\n",
        "result_no_segmentation = minimize_scalar(prof, method='brent')\n",
        "optimal_price_no_segmentation = result_no_segmentation.x\n",
        "max_profit_no_segmentation = -result_no_segmentation.fun\n",
        "\n",
        "print(f\"Optimal price (no segmentation): ${optimal_price_no_segmentation:.2f}\")\n",
        "print(f\"Maximum profit (no segmentation): ${max_profit_no_segmentation:.2f}\")"
      ],
      "metadata": {
        "colab": {
          "base_uri": "https://localhost:8080/"
        },
        "id": "FJHsbvAS9Giu",
        "outputId": "a289752a-b28d-4203-f2fa-fa2a5184aea2"
      },
      "execution_count": null,
      "outputs": [
        {
          "output_type": "stream",
          "name": "stdout",
          "text": [
            "Optimal price (no segmentation): $8.75\n",
            "Maximum profit (no segmentation): $11250.00\n"
          ]
        }
      ]
    },
    {
      "cell_type": "markdown",
      "source": [
        "No Segmentation:\n",
        "\n",
        "The optimal price to charge when not segmenting the market is  $8.75.\n",
        "\n",
        "The maximum profit that can be achieved in this scenario is  $11,250."
      ],
      "metadata": {
        "id": "ih9kySkz2Ylw"
      }
    },
    {
      "cell_type": "markdown",
      "source": [
        "### Segment 1 "
      ],
      "metadata": {
        "id": "8Tfgik5z1bWu"
      }
    },
    {
      "cell_type": "markdown",
      "source": [
        "Now, let's find the optimal prices for segment 1 and segment 2, assuming we can price differently for customers with WTP above and below $7.\n",
        "\n",
        "Segment 1: WTP ≤ $7"
      ],
      "metadata": {
        "id": "U5WpIgCV1KcD"
      }
    },
    {
      "cell_type": "code",
      "source": [
        "c = 5\n",
        "result_segment_1 = minimize_scalar(lambda p: -((int(7/12.5 * 10000)) - 800 * p) * (p - c) if p < 7 else 0 * (p - c), method='brent')\n",
        "optimal_price_segment_1 = result_segment_1.x\n",
        "max_profit_segment_1 = -result_segment_1.fun"
      ],
      "metadata": {
        "id": "PsB5YZjW9_K1"
      },
      "execution_count": null,
      "outputs": []
    },
    {
      "cell_type": "code",
      "source": [
        "print(f\"Optimal price (segment 1): ${optimal_price_segment_1:.2f}\")\n",
        "print(f\"Max profit (segment 1): ${max_profit_segment_1:.2f}\")"
      ],
      "metadata": {
        "colab": {
          "base_uri": "https://localhost:8080/"
        },
        "id": "ZeWPT3251myn",
        "outputId": "61b346cd-685c-4d1d-c843-be8712971cef"
      },
      "execution_count": null,
      "outputs": [
        {
          "output_type": "stream",
          "name": "stdout",
          "text": [
            "Optimal price (segment 1): $6.00\n",
            "Max profit (segment 1): $800.00\n"
          ]
        }
      ]
    },
    {
      "cell_type": "markdown",
      "source": [
        "Segment 1  (WTP  ≤  $7):\n",
        "\n",
        "The optimal price to charge for customers with a willingness to pay (WTP) <= 7 is   $6.\n",
        "\n",
        "The maximum profit that can be achieved from this segment is $800.\n"
      ],
      "metadata": {
        "id": "RLi_i_yO2pqG"
      }
    },
    {
      "cell_type": "markdown",
      "source": [
        "### Segment 2 \n",
        "Segment 2: WTP > $7"
      ],
      "metadata": {
        "id": "08ed9B4H1uoV"
      }
    },
    {
      "cell_type": "code",
      "source": [
        "c = 5\n",
        "res_segment_2 = minimize_scalar(lambda p: -(10000 - 800 * p) * (p - c) if p > 7 else -(10000 - (int(7/12.5 * 10000))) * (p - c), method='brent')\n",
        "optimal_price_segment_2 = res_segment_2.x\n",
        "max_profit_segment_2 = -res_segment_2.fun"
      ],
      "metadata": {
        "id": "ffqRngPx-hBE"
      },
      "execution_count": null,
      "outputs": []
    },
    {
      "cell_type": "code",
      "source": [
        "print(f\"Optimal price (segment 2): ${optimal_price_segment_2:.2f}\")\n",
        "print(f\"Max profit (segment 2): ${max_profit_segment_2:.2f}\")"
      ],
      "metadata": {
        "colab": {
          "base_uri": "https://localhost:8080/"
        },
        "id": "p7mhYxr74QAE",
        "outputId": "86a006f1-f060-4f57-8425-445f8a99c3d1"
      },
      "execution_count": null,
      "outputs": [
        {
          "output_type": "stream",
          "name": "stdout",
          "text": [
            "Optimal price (segment 2): $8.75\n",
            "Max profit (segment 2): $11250.00\n"
          ]
        }
      ]
    },
    {
      "cell_type": "markdown",
      "source": [
        "Segment 2 (WTP > $7):\n",
        "\n",
        "The optimal price to charge for customers with a willingness to pay (WTP) > $7  is $8.75.\n",
        "\n",
        "The maximum profit that can be achieved from this segment is $11,250."
      ],
      "metadata": {
        "id": "CsKjczBs3DMC"
      }
    },
    {
      "cell_type": "markdown",
      "source": [
        "### Combined Profit \n",
        "Seg 1 & 2"
      ],
      "metadata": {
        "id": "r23hLzj617J4"
      }
    },
    {
      "cell_type": "code",
      "source": [
        "combined_profit = max_profit_segment_1 + max_profit_segment_2\n",
        "print(f\"Combined profit (segment 1 and 2): ${combined_profit:.2f}\")"
      ],
      "metadata": {
        "colab": {
          "base_uri": "https://localhost:8080/"
        },
        "id": "Qp-FZugx1Rja",
        "outputId": "9c1c2cfc-32d8-4d36-c0d0-5b2b99aa7c1a"
      },
      "execution_count": null,
      "outputs": [
        {
          "output_type": "stream",
          "name": "stdout",
          "text": [
            "Combined profit (segment 1 and 2): $12050.00\n"
          ]
        }
      ]
    },
    {
      "cell_type": "markdown",
      "source": [
        "The combined profit from both segments when using segmented pricing is $12,050."
      ],
      "metadata": {
        "id": "DtSMFI2T3RDF"
      }
    },
    {
      "cell_type": "markdown",
      "source": [
        "### Profit Difference: \n",
        "Between Combined Profit & Profit with no Segmentation"
      ],
      "metadata": {
        "id": "Waq5qL5j2DZu"
      }
    },
    {
      "cell_type": "code",
      "source": [
        "profit_difference = combined_profit - max_profit_no_segmentation\n",
        "print(f\"Profit difference Between [(Seg1 + Seg2) - No Segment]): ${profit_difference:.2f}\")"
      ],
      "metadata": {
        "colab": {
          "base_uri": "https://localhost:8080/"
        },
        "id": "Nj86fHj22Cba",
        "outputId": "5f22a4ad-36e1-49fe-ae04-ea0fbfd74b42"
      },
      "execution_count": null,
      "outputs": [
        {
          "output_type": "stream",
          "name": "stdout",
          "text": [
            "Profit difference Between [(Seg1 + Seg2) - No Segment]): $800.00\n"
          ]
        }
      ]
    },
    {
      "cell_type": "markdown",
      "source": [
        "Based on the above results.\n",
        "\n",
        "We can say that, by segmenting the market and offering different prices for every segment.\n",
        "\n",
        "In the case given above, we can see that an additional profit of $800 compared to the strategy having no segmention.\n",
        "\n",
        "Therefore we can say that, the company has potential to gain higher profits if we approach for segmentation strategy compared to the strategy having single price."
      ],
      "metadata": {
        "id": "Ny_HQICd1keh"
      }
    }
  ]
}